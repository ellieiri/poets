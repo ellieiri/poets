{
 "cells": [
  {
   "cell_type": "markdown",
   "id": "a53748ae-63bf-43d0-a723-0fd199166ec9",
   "metadata": {
    "tags": []
   },
   "source": [
    "# Propriétés d'une population fictive : analyse univariée quantitative"
   ]
  },
  {
   "cell_type": "markdown",
   "id": "hungry-return",
   "metadata": {},
   "source": [
    "## Importer les librairies nécessaires"
   ]
  },
  {
   "cell_type": "code",
   "execution_count": 176,
   "id": "dense-sympathy",
   "metadata": {
    "tags": []
   },
   "outputs": [],
   "source": [
    "import pandas as pd\n",
    "import matplotlib.pyplot as plt\n",
    "import numpy as np\n",
    "import seaborn as sns\n",
    "import statsmodels.api as sm\n",
    "import scipy.stats as stats"
   ]
  },
  {
   "cell_type": "markdown",
   "id": "conventional-praise",
   "metadata": {},
   "source": [
    "## Explorer les observations\n",
    "\n",
    "* Regrouper et inspecter : la distribution\n",
    "* Afficher et analyser : les graphiques"
   ]
  },
  {
   "cell_type": "code",
   "execution_count": 177,
   "id": "liked-richards",
   "metadata": {
    "tags": []
   },
   "outputs": [
    {
     "data": {
      "text/html": [
       "<div>\n",
       "<style scoped>\n",
       "    .dataframe tbody tr th:only-of-type {\n",
       "        vertical-align: middle;\n",
       "    }\n",
       "\n",
       "    .dataframe tbody tr th {\n",
       "        vertical-align: top;\n",
       "    }\n",
       "\n",
       "    .dataframe thead th {\n",
       "        text-align: right;\n",
       "    }\n",
       "</style>\n",
       "<table border=\"1\" class=\"dataframe\">\n",
       "  <thead>\n",
       "    <tr style=\"text-align: right;\">\n",
       "      <th></th>\n",
       "      <th>age</th>\n",
       "      <th>sex</th>\n",
       "      <th>bmi</th>\n",
       "      <th>children</th>\n",
       "      <th>smoker</th>\n",
       "      <th>region</th>\n",
       "      <th>charges</th>\n",
       "    </tr>\n",
       "  </thead>\n",
       "  <tbody>\n",
       "    <tr>\n",
       "      <th>0</th>\n",
       "      <td>19</td>\n",
       "      <td>female</td>\n",
       "      <td>27.900</td>\n",
       "      <td>0</td>\n",
       "      <td>yes</td>\n",
       "      <td>southwest</td>\n",
       "      <td>16884.92400</td>\n",
       "    </tr>\n",
       "    <tr>\n",
       "      <th>1</th>\n",
       "      <td>18</td>\n",
       "      <td>male</td>\n",
       "      <td>33.770</td>\n",
       "      <td>1</td>\n",
       "      <td>no</td>\n",
       "      <td>southeast</td>\n",
       "      <td>1725.55230</td>\n",
       "    </tr>\n",
       "    <tr>\n",
       "      <th>2</th>\n",
       "      <td>28</td>\n",
       "      <td>male</td>\n",
       "      <td>33.000</td>\n",
       "      <td>3</td>\n",
       "      <td>no</td>\n",
       "      <td>southeast</td>\n",
       "      <td>4449.46200</td>\n",
       "    </tr>\n",
       "    <tr>\n",
       "      <th>3</th>\n",
       "      <td>33</td>\n",
       "      <td>male</td>\n",
       "      <td>22.705</td>\n",
       "      <td>0</td>\n",
       "      <td>no</td>\n",
       "      <td>northwest</td>\n",
       "      <td>21984.47061</td>\n",
       "    </tr>\n",
       "    <tr>\n",
       "      <th>4</th>\n",
       "      <td>32</td>\n",
       "      <td>male</td>\n",
       "      <td>28.880</td>\n",
       "      <td>0</td>\n",
       "      <td>no</td>\n",
       "      <td>northwest</td>\n",
       "      <td>3866.85520</td>\n",
       "    </tr>\n",
       "  </tbody>\n",
       "</table>\n",
       "</div>"
      ],
      "text/plain": [
       "   age     sex     bmi  children smoker     region      charges\n",
       "0   19  female  27.900         0    yes  southwest  16884.92400\n",
       "1   18    male  33.770         1     no  southeast   1725.55230\n",
       "2   28    male  33.000         3     no  southeast   4449.46200\n",
       "3   33    male  22.705         0     no  northwest  21984.47061\n",
       "4   32    male  28.880         0     no  northwest   3866.85520"
      ]
     },
     "execution_count": 177,
     "metadata": {},
     "output_type": "execute_result"
    }
   ],
   "source": [
    "### Lire le fichier corrigé manuellement – ne pas effacer ce fichier !\n",
    "\n",
    "path = 'data/insurance.csv'\n",
    "\n",
    "insurance = pd.read_csv(path)\n",
    "#insurance.set_index('', inplace=True)\n",
    "insurance.head()"
   ]
  },
  {
   "cell_type": "code",
   "execution_count": 178,
   "id": "877d0f67-b9fc-4c1e-b942-ce4c060f27c6",
   "metadata": {
    "tags": []
   },
   "outputs": [
    {
     "data": {
      "text/plain": [
       "(1338, 7)"
      ]
     },
     "execution_count": 178,
     "metadata": {},
     "output_type": "execute_result"
    }
   ],
   "source": [
    "## Nombre de lignes et de colonnes du tableau\n",
    "insurance.shape"
   ]
  },
  {
   "cell_type": "code",
   "execution_count": 179,
   "id": "incredible-incident",
   "metadata": {
    "tags": []
   },
   "outputs": [
    {
     "data": {
      "text/plain": [
       "1338"
      ]
     },
     "execution_count": 179,
     "metadata": {},
     "output_type": "execute_result"
    }
   ],
   "source": [
    "### Nombre de lignes du tableau\n",
    "ins = insurance\n",
    "#obs = observations # 900\n",
    "len(ins)"
   ]
  },
  {
   "cell_type": "markdown",
   "id": "9705d30d-1d6f-4801-9c31-786e7fd52fa0",
   "metadata": {
    "tags": []
   },
   "source": [
    "### Afficher et inspecter les données: âge"
   ]
  },
  {
   "cell_type": "code",
   "execution_count": 180,
   "id": "8bd5fb7e-1cba-4dbd-9ee9-81d1d1234d75",
   "metadata": {
    "tags": []
   },
   "outputs": [
    {
     "data": {
      "text/plain": [
       "(pandas.core.series.Series,\n",
       " 0    19\n",
       " 1    18\n",
       " 2    28\n",
       " 3    33\n",
       " 4    32\n",
       " Name: age, dtype: int64)"
      ]
     },
     "execution_count": 180,
     "metadata": {},
     "output_type": "execute_result"
    }
   ],
   "source": [
    "### On crée une variable qui contient seulement la colonne 'âge'\n",
    "#  c'est-à-dire la pandas.Series, la série ou liste de données 'âge'\n",
    "age = ins['age']\n",
    "type(age), age.head()"
   ]
  },
  {
   "cell_type": "code",
   "execution_count": 181,
   "id": "4d1c7156-d765-4734-b1f8-5813189e0104",
   "metadata": {
    "tags": []
   },
   "outputs": [
    {
     "data": {
      "text/plain": [
       "(pandas.core.frame.DataFrame, pandas.core.series.Series)"
      ]
     },
     "execution_count": 181,
     "metadata": {},
     "output_type": "execute_result"
    }
   ],
   "source": [
    "### Noter la différence de type: DataFrame et Series\n",
    "# Les méthodes sont parfois communes, parfois spécifiques\n",
    "type(ins), type(age)"
   ]
  },
  {
   "cell_type": "code",
   "execution_count": 182,
   "id": "b475c732-fb96-453a-9b59-450b1fcb0b08",
   "metadata": {
    "tags": []
   },
   "outputs": [
    {
     "data": {
      "text/plain": [
       "<Axes: ylabel='Frequency'>"
      ]
     },
     "execution_count": 182,
     "metadata": {},
     "output_type": "execute_result"
    },
    {
     "data": {
      "image/png": "[encoded data removed]",
      "text/plain": [
       "<Figure size 2000x700 with 1 Axes>"
      ]
     },
     "metadata": {},
     "output_type": "display_data"
    }
   ],
   "source": [
    "### Représentation par défaut en mode ligne à éviter (!!!) dans ce cas:\n",
    "#  des surfaces sans sens\n",
    "age.plot.hist(figsize=(20,7))"
   ]
  },
  {
   "cell_type": "code",
   "execution_count": 183,
   "id": "41457e91-057d-4187-8031-f7d75249f79e",
   "metadata": {
    "tags": []
   },
   "outputs": [],
   "source": [
    "### Les individus en abscisses avec leur age en ordonnées:\n",
    "#  type de représentation à éviter (!) dans ce cas\n",
    "#age.plot(style='.',figsize=(20,7))"
   ]
  },
  {
   "cell_type": "code",
   "execution_count": 184,
   "id": "04eb74b1-3b68-4cc6-a7a9-73850c8a92b2",
   "metadata": {
    "tags": []
   },
   "outputs": [],
   "source": [
    "### Avec le diagramme à barres on a une 'image' plus parlante\n",
    "# de l'age des individus mais illisible sans tri — il s'agira donc de trier\n",
    "#ax = age.plot.bar(x='lab', y='val', rot=70, figsize=(25,7))\n",
    "#ax.tick_params(axis = 'x', labelsize = 10)"
   ]
  },
  {
   "cell_type": "code",
   "execution_count": 188,
   "id": "still-budapest",
   "metadata": {
    "tags": []
   },
   "outputs": [
    {
     "data": {
      "text/plain": [
       "1248    18\n",
       "482     18\n",
       "492     18\n",
       "525     18\n",
       "529     18\n",
       "Name: age, dtype: int64"
      ]
     },
     "execution_count": 188,
     "metadata": {},
     "output_type": "execute_result"
    }
   ],
   "source": [
    "### Tri ascendant des valeurs\n",
    "#  Pour le tri déscendant, \n",
    "#  mettre en argument de la fonction sort_values: ascending=False\n",
    "s_age = age.sort_values() \n",
    "s_age.head()"
   ]
  },
  {
   "cell_type": "code",
   "execution_count": 189,
   "id": "e3d588d9-9a62-488a-be2f-7516cc354891",
   "metadata": {
    "tags": []
   },
   "outputs": [],
   "source": [
    "### Cette visualisation donne une impression de la croissance des âges\n",
    "#x = s_age.plot(x='lab', y='val', rot=70, figsize=(25,7))\n",
    "#ax.tick_params(axis = 'x', labelsize = 8)"
   ]
  },
  {
   "cell_type": "markdown",
   "id": "d152d74d-6f9c-46ff-93e6-572a63b92d9f",
   "metadata": {},
   "source": [
    "### Effectifs par valeur\n",
    "\n",
    "Âge est traité comme variable quantitative discrète. C'est un cas limite car, étant donné la quantité de valeurs différentes, on pourrait aussi établir des classes et traiter l'âge comme variable quantitative continue.\n",
    "\n",
    "À noter également que renseigner l'âge en années revient à créer des classes, les _années_ étant dans les _classes_ de valeurs, car l'âge peut aussi être mesurée en jours, ce qui est plus précis mais généralement moins significatif, du moins pour les naissances d'une population telle que celle-ci.\n",
    "\n"
   ]
  },
  {
   "cell_type": "code",
   "execution_count": 20,
   "id": "4d669456-399d-4de2-9dad-c9c629f92252",
   "metadata": {
    "tags": []
   },
   "outputs": [
    {
     "name": "stdout",
     "output_type": "stream",
     "text": [
      "<class 'pandas.core.series.Series'>\n"
     ]
    },
    {
     "data": {
      "text/plain": [
       "age\n",
       "18    69\n",
       "19    68\n",
       "20    29\n",
       "21    28\n",
       "22    28\n",
       "Name: age, dtype: int64"
      ]
     },
     "execution_count": 20,
     "metadata": {},
     "output_type": "execute_result"
    }
   ],
   "source": [
    "### Regrouper par âge et compter les individus par valeur\n",
    "# Distribution par valeur de l'age !\n",
    "cs_age = s_age.groupby(s_age).count()\n",
    "print(type(cs_age))\n",
    "cs_age.head()"
   ]
  },
  {
   "cell_type": "code",
   "execution_count": 21,
   "id": "6cac74f6-4e1d-4063-878d-0753e1c0f634",
   "metadata": {
    "tags": []
   },
   "outputs": [
    {
     "name": "stdout",
     "output_type": "stream",
     "text": [
      "<class 'pandas.core.frame.DataFrame'>\n"
     ]
    },
    {
     "data": {
      "text/html": [
       "<div>\n",
       "<style scoped>\n",
       "    .dataframe tbody tr th:only-of-type {\n",
       "        vertical-align: middle;\n",
       "    }\n",
       "\n",
       "    .dataframe tbody tr th {\n",
       "        vertical-align: top;\n",
       "    }\n",
       "\n",
       "    .dataframe thead th {\n",
       "        text-align: right;\n",
       "    }\n",
       "</style>\n",
       "<table border=\"1\" class=\"dataframe\">\n",
       "  <thead>\n",
       "    <tr style=\"text-align: right;\">\n",
       "      <th></th>\n",
       "      <th>age</th>\n",
       "    </tr>\n",
       "    <tr>\n",
       "      <th>age</th>\n",
       "      <th></th>\n",
       "    </tr>\n",
       "  </thead>\n",
       "  <tbody>\n",
       "    <tr>\n",
       "      <th>18</th>\n",
       "      <td>69</td>\n",
       "    </tr>\n",
       "    <tr>\n",
       "      <th>19</th>\n",
       "      <td>68</td>\n",
       "    </tr>\n",
       "    <tr>\n",
       "      <th>20</th>\n",
       "      <td>29</td>\n",
       "    </tr>\n",
       "    <tr>\n",
       "      <th>21</th>\n",
       "      <td>28</td>\n",
       "    </tr>\n",
       "    <tr>\n",
       "      <th>22</th>\n",
       "      <td>28</td>\n",
       "    </tr>\n",
       "  </tbody>\n",
       "</table>\n",
       "</div>"
      ],
      "text/plain": [
       "     age\n",
       "age     \n",
       "18    69\n",
       "19    68\n",
       "20    29\n",
       "21    28\n",
       "22    28"
      ]
     },
     "execution_count": 21,
     "metadata": {},
     "output_type": "execute_result"
    }
   ],
   "source": [
    "### Transformer la serie en dataFrame\n",
    "df_cs_age = pd.DataFrame(cs_age)\n",
    "print(type(df_cs_age))\n",
    "df_cs_age.head()"
   ]
  },
  {
   "cell_type": "code",
   "execution_count": 22,
   "id": "f64a827c-a721-4552-a6c2-1c028d4cc113",
   "metadata": {
    "tags": []
   },
   "outputs": [
    {
     "data": {
      "text/plain": [
       "(     effectif\n",
       " age          \n",
       " 18         69\n",
       " 19         68\n",
       " 20         29\n",
       " 21         28\n",
       " 22         28,\n",
       " Index([18, 19, 20, 21, 22], dtype='int64', name='age'))"
      ]
     },
     "execution_count": 22,
     "metadata": {},
     "output_type": "execute_result"
    }
   ],
   "source": [
    "### Renommer la colonne\n",
    "df_cs_age.columns=['effectif']\n",
    "df_cs_age.head(), df_cs_age.index[:5]"
   ]
  },
  {
   "cell_type": "code",
   "execution_count": 23,
   "id": "9856dc71-f988-4be9-b21d-17f3c1c9ac3d",
   "metadata": {
    "tags": []
   },
   "outputs": [
    {
     "data": {
      "text/html": [
       "<div>\n",
       "<style scoped>\n",
       "    .dataframe tbody tr th:only-of-type {\n",
       "        vertical-align: middle;\n",
       "    }\n",
       "\n",
       "    .dataframe tbody tr th {\n",
       "        vertical-align: top;\n",
       "    }\n",
       "\n",
       "    .dataframe thead th {\n",
       "        text-align: right;\n",
       "    }\n",
       "</style>\n",
       "<table border=\"1\" class=\"dataframe\">\n",
       "  <thead>\n",
       "    <tr style=\"text-align: right;\">\n",
       "      <th></th>\n",
       "      <th>effectif</th>\n",
       "      <th>effectif_cumule</th>\n",
       "    </tr>\n",
       "    <tr>\n",
       "      <th>age</th>\n",
       "      <th></th>\n",
       "      <th></th>\n",
       "    </tr>\n",
       "  </thead>\n",
       "  <tbody>\n",
       "    <tr>\n",
       "      <th>18</th>\n",
       "      <td>69</td>\n",
       "      <td>69</td>\n",
       "    </tr>\n",
       "    <tr>\n",
       "      <th>19</th>\n",
       "      <td>68</td>\n",
       "      <td>137</td>\n",
       "    </tr>\n",
       "    <tr>\n",
       "      <th>20</th>\n",
       "      <td>29</td>\n",
       "      <td>166</td>\n",
       "    </tr>\n",
       "    <tr>\n",
       "      <th>21</th>\n",
       "      <td>28</td>\n",
       "      <td>194</td>\n",
       "    </tr>\n",
       "    <tr>\n",
       "      <th>22</th>\n",
       "      <td>28</td>\n",
       "      <td>222</td>\n",
       "    </tr>\n",
       "  </tbody>\n",
       "</table>\n",
       "</div>"
      ],
      "text/plain": [
       "     effectif  effectif_cumule\n",
       "age                           \n",
       "18         69               69\n",
       "19         68              137\n",
       "20         29              166\n",
       "21         28              194\n",
       "22         28              222"
      ]
     },
     "execution_count": 23,
     "metadata": {},
     "output_type": "execute_result"
    }
   ],
   "source": [
    "### Ajouter les effectifs cumulés\n",
    "# On ajoute à un cellule la valeur de la précédente\n",
    "df_cs_age['effectif_cumule'] = df_cs_age['effectif'].cumsum()\n",
    "df_cs_age.head()"
   ]
  },
  {
   "cell_type": "markdown",
   "id": "afb1ba53-1826-4910-adc8-eef602ef138b",
   "metadata": {},
   "source": [
    "### Fréquence et fréquence cumulée"
   ]
  },
  {
   "cell_type": "code",
   "execution_count": 24,
   "id": "c9efa6df-721f-476f-8166-bf2a700318b7",
   "metadata": {
    "tags": []
   },
   "outputs": [
    {
     "data": {
      "text/html": [
       "<div>\n",
       "<style scoped>\n",
       "    .dataframe tbody tr th:only-of-type {\n",
       "        vertical-align: middle;\n",
       "    }\n",
       "\n",
       "    .dataframe tbody tr th {\n",
       "        vertical-align: top;\n",
       "    }\n",
       "\n",
       "    .dataframe thead th {\n",
       "        text-align: right;\n",
       "    }\n",
       "</style>\n",
       "<table border=\"1\" class=\"dataframe\">\n",
       "  <thead>\n",
       "    <tr style=\"text-align: right;\">\n",
       "      <th></th>\n",
       "      <th>effectif</th>\n",
       "      <th>effectif_cumule</th>\n",
       "      <th>frequence</th>\n",
       "    </tr>\n",
       "    <tr>\n",
       "      <th>age</th>\n",
       "      <th></th>\n",
       "      <th></th>\n",
       "      <th></th>\n",
       "    </tr>\n",
       "  </thead>\n",
       "  <tbody>\n",
       "    <tr>\n",
       "      <th>18</th>\n",
       "      <td>69</td>\n",
       "      <td>69</td>\n",
       "      <td>5.16</td>\n",
       "    </tr>\n",
       "    <tr>\n",
       "      <th>19</th>\n",
       "      <td>68</td>\n",
       "      <td>137</td>\n",
       "      <td>5.08</td>\n",
       "    </tr>\n",
       "    <tr>\n",
       "      <th>20</th>\n",
       "      <td>29</td>\n",
       "      <td>166</td>\n",
       "      <td>2.17</td>\n",
       "    </tr>\n",
       "    <tr>\n",
       "      <th>21</th>\n",
       "      <td>28</td>\n",
       "      <td>194</td>\n",
       "      <td>2.09</td>\n",
       "    </tr>\n",
       "    <tr>\n",
       "      <th>22</th>\n",
       "      <td>28</td>\n",
       "      <td>222</td>\n",
       "      <td>2.09</td>\n",
       "    </tr>\n",
       "  </tbody>\n",
       "</table>\n",
       "</div>"
      ],
      "text/plain": [
       "     effectif  effectif_cumule  frequence\n",
       "age                                      \n",
       "18         69               69       5.16\n",
       "19         68              137       5.08\n",
       "20         29              166       2.17\n",
       "21         28              194       2.09\n",
       "22         28              222       2.09"
      ]
     },
     "execution_count": 24,
     "metadata": {},
     "output_type": "execute_result"
    }
   ],
   "source": [
    "### Calculer et ajouter la fréquence\n",
    "#  en tant que proportion entre l'effectif de la valeur et l'effectif total\n",
    "\n",
    "df_cs_age['frequence'] = (100 * df_cs_age['effectif'] \\\n",
    "                                   / df_cs_age['effectif'].sum()).round(2)\n",
    "df_cs_age.head()"
   ]
  },
  {
   "cell_type": "code",
   "execution_count": 25,
   "id": "5dea3cb8-7ac7-47c8-9d0f-11412fee3ed3",
   "metadata": {
    "tags": []
   },
   "outputs": [
    {
     "data": {
      "text/html": [
       "<div>\n",
       "<style scoped>\n",
       "    .dataframe tbody tr th:only-of-type {\n",
       "        vertical-align: middle;\n",
       "    }\n",
       "\n",
       "    .dataframe tbody tr th {\n",
       "        vertical-align: top;\n",
       "    }\n",
       "\n",
       "    .dataframe thead th {\n",
       "        text-align: right;\n",
       "    }\n",
       "</style>\n",
       "<table border=\"1\" class=\"dataframe\">\n",
       "  <thead>\n",
       "    <tr style=\"text-align: right;\">\n",
       "      <th></th>\n",
       "      <th>effectif</th>\n",
       "      <th>effectif_cumule</th>\n",
       "      <th>frequence</th>\n",
       "      <th>frequence_cumulee</th>\n",
       "    </tr>\n",
       "    <tr>\n",
       "      <th>age</th>\n",
       "      <th></th>\n",
       "      <th></th>\n",
       "      <th></th>\n",
       "      <th></th>\n",
       "    </tr>\n",
       "  </thead>\n",
       "  <tbody>\n",
       "    <tr>\n",
       "      <th>18</th>\n",
       "      <td>69</td>\n",
       "      <td>69</td>\n",
       "      <td>5.16</td>\n",
       "      <td>5.16</td>\n",
       "    </tr>\n",
       "    <tr>\n",
       "      <th>19</th>\n",
       "      <td>68</td>\n",
       "      <td>137</td>\n",
       "      <td>5.08</td>\n",
       "      <td>10.24</td>\n",
       "    </tr>\n",
       "    <tr>\n",
       "      <th>20</th>\n",
       "      <td>29</td>\n",
       "      <td>166</td>\n",
       "      <td>2.17</td>\n",
       "      <td>12.41</td>\n",
       "    </tr>\n",
       "    <tr>\n",
       "      <th>21</th>\n",
       "      <td>28</td>\n",
       "      <td>194</td>\n",
       "      <td>2.09</td>\n",
       "      <td>14.50</td>\n",
       "    </tr>\n",
       "    <tr>\n",
       "      <th>22</th>\n",
       "      <td>28</td>\n",
       "      <td>222</td>\n",
       "      <td>2.09</td>\n",
       "      <td>16.59</td>\n",
       "    </tr>\n",
       "  </tbody>\n",
       "</table>\n",
       "</div>"
      ],
      "text/plain": [
       "     effectif  effectif_cumule  frequence  frequence_cumulee\n",
       "age                                                         \n",
       "18         69               69       5.16               5.16\n",
       "19         68              137       5.08              10.24\n",
       "20         29              166       2.17              12.41\n",
       "21         28              194       2.09              14.50\n",
       "22         28              222       2.09              16.59"
      ]
     },
     "execution_count": 25,
     "metadata": {},
     "output_type": "execute_result"
    }
   ],
   "source": [
    "### Ajouter la fréquence cumulée\n",
    "df_cs_age['frequence_cumulee'] = (100 * df_cs_age['effectif_cumule'] \\\n",
    "                                / df_cs_age['effectif'].sum()).round(2)\n",
    "df_cs_age.head()"
   ]
  },
  {
   "cell_type": "code",
   "execution_count": 190,
   "id": "56e24869-ea16-4257-ad9c-b72f1378c0c6",
   "metadata": {
    "tags": []
   },
   "outputs": [
    {
     "data": {
      "text/html": [
       "<div>\n",
       "<style scoped>\n",
       "    .dataframe tbody tr th:only-of-type {\n",
       "        vertical-align: middle;\n",
       "    }\n",
       "\n",
       "    .dataframe tbody tr th {\n",
       "        vertical-align: top;\n",
       "    }\n",
       "\n",
       "    .dataframe thead th {\n",
       "        text-align: right;\n",
       "    }\n",
       "</style>\n",
       "<table border=\"1\" class=\"dataframe\">\n",
       "  <thead>\n",
       "    <tr style=\"text-align: right;\">\n",
       "      <th></th>\n",
       "      <th>effectif</th>\n",
       "      <th>effectif_cumule</th>\n",
       "      <th>frequence</th>\n",
       "      <th>frequence_cumulee</th>\n",
       "    </tr>\n",
       "    <tr>\n",
       "      <th>age</th>\n",
       "      <th></th>\n",
       "      <th></th>\n",
       "      <th></th>\n",
       "      <th></th>\n",
       "    </tr>\n",
       "  </thead>\n",
       "  <tbody>\n",
       "    <tr>\n",
       "      <th>18</th>\n",
       "      <td>69</td>\n",
       "      <td>69</td>\n",
       "      <td>5.16</td>\n",
       "      <td>5.16</td>\n",
       "    </tr>\n",
       "    <tr>\n",
       "      <th>19</th>\n",
       "      <td>68</td>\n",
       "      <td>137</td>\n",
       "      <td>5.08</td>\n",
       "      <td>10.24</td>\n",
       "    </tr>\n",
       "    <tr>\n",
       "      <th>20</th>\n",
       "      <td>29</td>\n",
       "      <td>166</td>\n",
       "      <td>2.17</td>\n",
       "      <td>12.41</td>\n",
       "    </tr>\n",
       "  </tbody>\n",
       "</table>\n",
       "</div>"
      ],
      "text/plain": [
       "     effectif  effectif_cumule  frequence  frequence_cumulee\n",
       "age                                                         \n",
       "18         69               69       5.16               5.16\n",
       "19         68              137       5.08              10.24\n",
       "20         29              166       2.17              12.41"
      ]
     },
     "execution_count": 190,
     "metadata": {},
     "output_type": "execute_result"
    }
   ],
   "source": [
    "### Le centre de la population, partie inférieure\n",
    "df_cs_age[df_cs_age['frequence_cumulee']<= 50].head(3)"
   ]
  },
  {
   "cell_type": "code",
   "execution_count": 27,
   "id": "0222ce64-6ba0-4297-907b-53aada036c4c",
   "metadata": {
    "tags": []
   },
   "outputs": [
    {
     "data": {
      "text/html": [
       "<div>\n",
       "<style scoped>\n",
       "    .dataframe tbody tr th:only-of-type {\n",
       "        vertical-align: middle;\n",
       "    }\n",
       "\n",
       "    .dataframe tbody tr th {\n",
       "        vertical-align: top;\n",
       "    }\n",
       "\n",
       "    .dataframe thead th {\n",
       "        text-align: right;\n",
       "    }\n",
       "</style>\n",
       "<table border=\"1\" class=\"dataframe\">\n",
       "  <thead>\n",
       "    <tr style=\"text-align: right;\">\n",
       "      <th></th>\n",
       "      <th>effectif</th>\n",
       "      <th>effectif_cumule</th>\n",
       "      <th>frequence</th>\n",
       "      <th>frequence_cumulee</th>\n",
       "    </tr>\n",
       "    <tr>\n",
       "      <th>age</th>\n",
       "      <th></th>\n",
       "      <th></th>\n",
       "      <th></th>\n",
       "      <th></th>\n",
       "    </tr>\n",
       "  </thead>\n",
       "  <tbody>\n",
       "    <tr>\n",
       "      <th>39</th>\n",
       "      <td>25</td>\n",
       "      <td>674</td>\n",
       "      <td>1.87</td>\n",
       "      <td>50.37</td>\n",
       "    </tr>\n",
       "    <tr>\n",
       "      <th>40</th>\n",
       "      <td>27</td>\n",
       "      <td>701</td>\n",
       "      <td>2.02</td>\n",
       "      <td>52.39</td>\n",
       "    </tr>\n",
       "    <tr>\n",
       "      <th>41</th>\n",
       "      <td>27</td>\n",
       "      <td>728</td>\n",
       "      <td>2.02</td>\n",
       "      <td>54.41</td>\n",
       "    </tr>\n",
       "  </tbody>\n",
       "</table>\n",
       "</div>"
      ],
      "text/plain": [
       "     effectif  effectif_cumule  frequence  frequence_cumulee\n",
       "age                                                         \n",
       "39         25              674       1.87              50.37\n",
       "40         27              701       2.02              52.39\n",
       "41         27              728       2.02              54.41"
      ]
     },
     "execution_count": 27,
     "metadata": {},
     "output_type": "execute_result"
    }
   ],
   "source": [
    "### Le centre de la population, partie supérieure\n",
    "df_cs_age[df_cs_age['frequence_cumulee']>= 50].head(3)"
   ]
  },
  {
   "cell_type": "markdown",
   "id": "536acba2-8435-46ed-8116-aa4c77e6153d",
   "metadata": {},
   "source": [
    "### Représentations graphiques"
   ]
  },
  {
   "cell_type": "code",
   "execution_count": 28,
   "id": "8ff7c335-3c9a-49fa-838c-cecd33019bd9",
   "metadata": {
    "tags": []
   },
   "outputs": [
    {
     "data": {
      "image/png": "[encoded data removed]",
      "text/plain": [
       "<Figure size 1600x800 with 1 Axes>"
      ]
     },
     "metadata": {},
     "output_type": "display_data"
    }
   ],
   "source": [
    "# Distribution des effectifs par age\n",
    "\n",
    "objects = df_cs_age.index\n",
    "eff = df_cs_age['effectif']\n",
    "\n",
    "p1 = plt.bar(objects, eff, width=0.4)\n",
    "\n",
    "#plt.xticks(l5Years)\n",
    "plt.ylabel('Effectif')\n",
    "plt.title('Effectif par age')\n",
    "plt.gcf().set_size_inches(16, 8)\n",
    "#plt.gca().axes.get_xaxis().set_visible(False)\n",
    "# supported formats: eps, pdf, pgf, png, ps, raw, rgba, svg, svgz\n",
    "#plt.savefig('exported_pictures/effectifs_naissances_par_annee.png', dpi=100, bbox_inches = \"tight\") #pdf, svg\n",
    "plt.xticks(rotation=45)\n",
    "plt.show()\n"
   ]
  },
  {
   "cell_type": "code",
   "execution_count": 29,
   "id": "88cbe3a5-4eed-4e28-8eb8-c59a7d0fb826",
   "metadata": {
    "tags": []
   },
   "outputs": [
    {
     "data": {
      "image/png": "[encoded data removed]",
      "text/plain": [
       "<Figure size 1600x800 with 1 Axes>"
      ]
     },
     "metadata": {},
     "output_type": "display_data"
    }
   ],
   "source": [
    "# Effectifs cumulés par âge\n",
    "\n",
    "objects = df_cs_age.index\n",
    "eff = df_cs_age['effectif_cumule']\n",
    "#eff = df_cs_age['frequence_cumulee']\n",
    "\n",
    "\n",
    "\n",
    "p1 = plt.bar(objects, eff, width=0.3)\n",
    "\n",
    "#plt.xticks(l5Years)\n",
    "plt.ylabel('Effectif')\n",
    "plt.xlabel('Âge')\n",
    "plt.title('Effectif cumulé par âge')\n",
    "plt.gcf().set_size_inches(16, 8)\n",
    "#plt.gca().axes.get_xaxis().set_visible(False)\n",
    "# supported formats: eps, pdf, pgf, png, ps, raw, rgba, svg, svgz\n",
    "#plt.savefig('exported_pictures/effectifs_naissances_par_annee.png', dpi=100, bbox_inches = \"tight\") #pdf, svg\n",
    "plt.xticks(rotation=45)\n",
    "plt.show()\n"
   ]
  },
  {
   "cell_type": "code",
   "execution_count": 30,
   "id": "6fca31ad-e327-43a8-9df4-391c2fd13bbf",
   "metadata": {
    "tags": []
   },
   "outputs": [
    {
     "data": {
      "image/png": "[encoded data removed]",
      "text/plain": [
       "<Figure size 2000x700 with 1 Axes>"
      ]
     },
     "metadata": {},
     "output_type": "display_data"
    }
   ],
   "source": [
    "### Diagramme cumulatif : fréquences cumulées\n",
    "#  On observe que la médiane est autour de 45 ans,\n",
    "#  i.e. que la moitié de la population a moins de 45 ans, le reste plus \n",
    "plt.ylabel('Fréquence')\n",
    "plt.xlabel('Âge')\n",
    "plt.title('Fréquence cumulée par âge')\n",
    "df_cs_age['frequence_cumulee'].plot(figsize=(20,7), drawstyle='steps') #  style='o--',\n",
    "plt.draw()"
   ]
  },
  {
   "cell_type": "code",
   "execution_count": 191,
   "id": "5dff798c-5249-4196-8410-1a014a8f68c5",
   "metadata": {
    "tags": []
   },
   "outputs": [],
   "source": [
    "### Deux représentations graphiques différentes pour la même croissance.\n",
    "# noter qu'à identité de données l'impression visuelle est différente\n",
    "# Documentation\n",
    "#   https://matplotlib.org/stable/gallery/lines_bars_and_markers/step_demo.html#sphx-glr-gallery-lines-bars-and-markers-step-demo-py\n",
    "#x = df_cs_age.index\n",
    "#y = df_cs_age['frequence_cumulee']\n",
    "#fig = plt.figure(figsize=[20,8])\n",
    "#plt.ylabel('Fréquence')\n",
    "#plt.xlabel('Âge')\n",
    "#plt.title('Fréquence cumulée par âge')\n",
    "### Commenter l'une des deux lignes suivantes pour voire la différence\n",
    "#plt.step(x, y, label='pre (default)')\n",
    "#plt.plot(x, y, 'o--', color='grey', alpha=0.3)\n",
    "#plt.show()"
   ]
  },
  {
   "cell_type": "code",
   "execution_count": null,
   "id": "b90301af-0a82-4853-a151-bfc063f9494b",
   "metadata": {},
   "outputs": [],
   "source": []
  },
  {
   "cell_type": "markdown",
   "id": "40cc547b-2c3d-41a9-baae-23038fa699c9",
   "metadata": {
    "tags": []
   },
   "source": [
    "## Paramètres de centralité et de dispersion"
   ]
  },
  {
   "cell_type": "code",
   "execution_count": 32,
   "id": "3284b7ce-76b9-4fad-985d-7c961df28166",
   "metadata": {
    "tags": []
   },
   "outputs": [
    {
     "data": {
      "text/plain": [
       "count    1338.000000\n",
       "mean       39.207025\n",
       "std        14.049960\n",
       "min        18.000000\n",
       "25%        27.000000\n",
       "50%        39.000000\n",
       "75%        51.000000\n",
       "max        64.000000\n",
       "Name: age, dtype: float64"
      ]
     },
     "execution_count": 32,
     "metadata": {},
     "output_type": "execute_result"
    }
   ],
   "source": [
    "### Cette méthode d'une série fournit les caractéristiques\n",
    "#  de tendance centrale et de dispersion\n",
    "# À avoir toujours sous la main pour les variables quantitatives \n",
    "age.describe()"
   ]
  },
  {
   "cell_type": "code",
   "execution_count": 33,
   "id": "037e44a9-aee0-4bfb-98c5-9fdcd5334e66",
   "metadata": {
    "tags": []
   },
   "outputs": [
    {
     "data": {
      "text/plain": [
       "18"
      ]
     },
     "execution_count": 33,
     "metadata": {},
     "output_type": "execute_result"
    }
   ],
   "source": [
    "### La valeur la plus fréquente\n",
    "age.mode()[0]"
   ]
  },
  {
   "cell_type": "code",
   "execution_count": 36,
   "id": "b0864ecb-6bae-4cd5-bb64-b6a05831d776",
   "metadata": {
    "tags": []
   },
   "outputs": [
    {
     "data": {
      "text/plain": [
       "69"
      ]
     },
     "execution_count": 36,
     "metadata": {},
     "output_type": "execute_result"
    }
   ],
   "source": [
    "### Quel effectif a-t-elle ?\n",
    "len(age[age == 18])"
   ]
  },
  {
   "cell_type": "code",
   "execution_count": 38,
   "id": "bd09dd61-f8bd-4dae-8f40-e73379e323ee",
   "metadata": {
    "tags": []
   },
   "outputs": [
    {
     "data": {
      "text/plain": [
       "<Axes: >"
      ]
     },
     "execution_count": 38,
     "metadata": {},
     "output_type": "execute_result"
    },
    {
     "data": {
      "image/png": "[encoded data removed]",
      "text/plain": [
       "<Figure size 1600x400 with 1 Axes>"
      ]
     },
     "metadata": {},
     "output_type": "display_data"
    }
   ],
   "source": [
    "### Diagramme-boîte ou boîte-à-moustache pour représenter la dispersion\n",
    "# Ligne centrale = la médiane. Le box est entre 1er et 3e quartile\n",
    "# La moitié de la population se situe entre 31 et 68 ans\n",
    "#  Noter qu'on utilise le DataFrame car cet objet dispose d'une méthode boxplot\n",
    "# ce qui n'est pas le cas d'une série (pd.Series)\n",
    "ins.boxplot(column=['age'], vert=False, figsize=(16,4))"
   ]
  },
  {
   "cell_type": "code",
   "execution_count": 39,
   "id": "1495319a-5953-4e4c-bcf0-a6e73b8461ba",
   "metadata": {
    "tags": []
   },
   "outputs": [
    {
     "name": "stdout",
     "output_type": "stream",
     "text": [
      "Première quartile: 27.0\n",
      "Médiane: 39.0\n",
      "Troisième quartile: 51.0\n",
      "-----\n",
      "Ecart interquartile = 24.0;  Multiplié par 1.5 = 36.0\n",
      "Valeurs extrèmes:\n",
      "Limite inférieure = -9.0, valeur minimale réelle: 18\n",
      "Limite supérieure = 87.0, valeur maximale réelle: 64\n"
     ]
    }
   ],
   "source": [
    "### Calcul des valeurs extrêmes\n",
    "# NB Il n'y en a parmi les valeurs de cette variable \n",
    "q1 = age.quantile(q=0.25); print(f'Première quartile: {q1}')\n",
    "q2 = age.quantile(q=0.5); print(f'Médiane: {q2}')\n",
    "q3 = age.quantile(q=0.75); print(f'Troisième quartile: {q3}')\n",
    "print('-----')\n",
    "distance_inter_quantile = q3-q1\n",
    "print(f'Ecart interquartile = {distance_inter_quantile};  Multiplié par 1.5 = {distance_inter_quantile*1.5}')\n",
    "print('Valeurs extrèmes:')\n",
    "extr_inf = q1 - distance_inter_quantile * 1.5; print(f'Limite inférieure = {extr_inf}, valeur minimale réelle: {min(age)}')\n",
    "extr_sup = q3 + distance_inter_quantile * 1.5; print(f'Limite supérieure = {extr_sup}, valeur maximale réelle: {max(age)}')"
   ]
  },
  {
   "cell_type": "code",
   "execution_count": 192,
   "id": "db40ed74-5e99-4627-a592-4fae4051991c",
   "metadata": {
    "tags": []
   },
   "outputs": [],
   "source": [
    "### Violinplot : rend visible la différente densité de la distribution\n",
    "#  https://mode.com/blog/violin-plot-examples/\n",
    "#  https://seaborn.pydata.org/generated/seaborn.violinplot.html#seaborn.violinplot\n",
    "\n",
    "#sns.set_theme(style=\"whitegrid\")\n",
    "\n",
    "#sns.set(rc={\"figure.figsize\":(14, 7)})\n",
    "\n",
    "\n",
    "#a = ins[\"age\"]\n",
    "\n",
    "#ax = sns.violinplot(x=a)\n",
    "\n",
    "### Noter que au delà des limites les valeurs sont coupées car postulées\n",
    "#ax.set_xlim(left=min(a), right=max(a))\n",
    "\n"
   ]
  },
  {
   "cell_type": "markdown",
   "id": "0aed8cb6-77cd-4694-bd9f-e5383911fd6b",
   "metadata": {},
   "source": [
    "### Histogramme\n",
    "\n",
    "Observer les différents découpages des âges (générations) qui suivent et des effectifs respectifs:\n",
    "\n",
    "lequel est le plus pertinent scientifiquement ?\n"
   ]
  },
  {
   "cell_type": "code",
   "execution_count": 42,
   "id": "a0220dec-4952-47cc-a7d2-0a9c3e54c8c3",
   "metadata": {
    "tags": []
   },
   "outputs": [],
   "source": [
    "### Créer une copie indépendante du DataFrame (attention aux copies de variables qui sont seulement des alias) \n",
    "c_obs = ins.copy(deep=True)"
   ]
  },
  {
   "cell_type": "code",
   "execution_count": 44,
   "id": "517e0e92-cf3d-41d6-9bc5-003a06d990c5",
   "metadata": {
    "tags": []
   },
   "outputs": [
    {
     "data": {
      "text/html": [
       "<div>\n",
       "<style scoped>\n",
       "    .dataframe tbody tr th:only-of-type {\n",
       "        vertical-align: middle;\n",
       "    }\n",
       "\n",
       "    .dataframe tbody tr th {\n",
       "        vertical-align: top;\n",
       "    }\n",
       "\n",
       "    .dataframe thead th {\n",
       "        text-align: right;\n",
       "    }\n",
       "</style>\n",
       "<table border=\"1\" class=\"dataframe\">\n",
       "  <thead>\n",
       "    <tr style=\"text-align: right;\">\n",
       "      <th></th>\n",
       "      <th>age</th>\n",
       "      <th>sex</th>\n",
       "      <th>bmi</th>\n",
       "      <th>children</th>\n",
       "      <th>smoker</th>\n",
       "      <th>region</th>\n",
       "      <th>charges</th>\n",
       "      <th>generation_heur</th>\n",
       "    </tr>\n",
       "  </thead>\n",
       "  <tbody>\n",
       "    <tr>\n",
       "      <th>0</th>\n",
       "      <td>19</td>\n",
       "      <td>female</td>\n",
       "      <td>27.90</td>\n",
       "      <td>0</td>\n",
       "      <td>yes</td>\n",
       "      <td>southwest</td>\n",
       "      <td>16884.9240</td>\n",
       "      <td>18-25</td>\n",
       "    </tr>\n",
       "    <tr>\n",
       "      <th>1</th>\n",
       "      <td>18</td>\n",
       "      <td>male</td>\n",
       "      <td>33.77</td>\n",
       "      <td>1</td>\n",
       "      <td>no</td>\n",
       "      <td>southeast</td>\n",
       "      <td>1725.5523</td>\n",
       "      <td>18-25</td>\n",
       "    </tr>\n",
       "    <tr>\n",
       "      <th>2</th>\n",
       "      <td>28</td>\n",
       "      <td>male</td>\n",
       "      <td>33.00</td>\n",
       "      <td>3</td>\n",
       "      <td>no</td>\n",
       "      <td>southeast</td>\n",
       "      <td>4449.4620</td>\n",
       "      <td>26-35</td>\n",
       "    </tr>\n",
       "  </tbody>\n",
       "</table>\n",
       "</div>"
      ],
      "text/plain": [
       "   age     sex    bmi  children smoker     region     charges generation_heur\n",
       "0   19  female  27.90         0    yes  southwest  16884.9240           18-25\n",
       "1   18    male  33.77         1     no  southeast   1725.5523           18-25\n",
       "2   28    male  33.00         3     no  southeast   4449.4620           26-35"
      ]
     },
     "execution_count": 44,
     "metadata": {},
     "output_type": "execute_result"
    }
   ],
   "source": [
    "### Ajouter une colonne avec codage des années de naissance \n",
    "# en relation avec des classes significatives au point de vue heuristique du domaine étudié,\n",
    "# modifiables en fonction de la problématique \n",
    "# Par exemple: en formation, jeunes travailleurs, travailleurs expérimentés, travailleurs seniors, préretraite, retraités\n",
    "## fonction pd.cut : https://pandas.pydata.org/pandas-docs/stable/reference/api/pandas.cut.html\n",
    "\n",
    "generations = [18, 26, 36, 46, 56, 64]\n",
    "c_obs['generation_heur'] = pd.cut(c_obs['age'], generations, right=False)\n",
    "\n",
    "### Transformer le code ajouté pour qu'il soit plus lisible\n",
    "# noter qu'on a arrondi les valeurs\n",
    "c_obs['generation_heur'] = c_obs['generation_heur'].apply(lambda x : str(int(x.left))+'-'+ str(int(x.right)-1))\n",
    "\n",
    "# Inspection\n",
    "c_obs.head(3)"
   ]
  },
  {
   "cell_type": "code",
   "execution_count": 46,
   "id": "2903ba6a-b781-4333-8580-bc163b92d3b4",
   "metadata": {
    "tags": []
   },
   "outputs": [
    {
     "data": {
      "text/html": [
       "<div>\n",
       "<style scoped>\n",
       "    .dataframe tbody tr th:only-of-type {\n",
       "        vertical-align: middle;\n",
       "    }\n",
       "\n",
       "    .dataframe tbody tr th {\n",
       "        vertical-align: top;\n",
       "    }\n",
       "\n",
       "    .dataframe thead th {\n",
       "        text-align: right;\n",
       "    }\n",
       "</style>\n",
       "<table border=\"1\" class=\"dataframe\">\n",
       "  <thead>\n",
       "    <tr style=\"text-align: right;\">\n",
       "      <th></th>\n",
       "      <th>age</th>\n",
       "      <th>sex</th>\n",
       "      <th>bmi</th>\n",
       "      <th>children</th>\n",
       "      <th>smoker</th>\n",
       "      <th>region</th>\n",
       "      <th>charges</th>\n",
       "      <th>generation_heur</th>\n",
       "      <th>generation_cut</th>\n",
       "    </tr>\n",
       "  </thead>\n",
       "  <tbody>\n",
       "    <tr>\n",
       "      <th>0</th>\n",
       "      <td>19</td>\n",
       "      <td>female</td>\n",
       "      <td>27.900</td>\n",
       "      <td>0</td>\n",
       "      <td>yes</td>\n",
       "      <td>southwest</td>\n",
       "      <td>16884.92400</td>\n",
       "      <td>18-25</td>\n",
       "      <td>18-26</td>\n",
       "    </tr>\n",
       "    <tr>\n",
       "      <th>1</th>\n",
       "      <td>18</td>\n",
       "      <td>male</td>\n",
       "      <td>33.770</td>\n",
       "      <td>1</td>\n",
       "      <td>no</td>\n",
       "      <td>southeast</td>\n",
       "      <td>1725.55230</td>\n",
       "      <td>18-25</td>\n",
       "      <td>18-26</td>\n",
       "    </tr>\n",
       "    <tr>\n",
       "      <th>2</th>\n",
       "      <td>28</td>\n",
       "      <td>male</td>\n",
       "      <td>33.000</td>\n",
       "      <td>3</td>\n",
       "      <td>no</td>\n",
       "      <td>southeast</td>\n",
       "      <td>4449.46200</td>\n",
       "      <td>26-35</td>\n",
       "      <td>27-35</td>\n",
       "    </tr>\n",
       "    <tr>\n",
       "      <th>3</th>\n",
       "      <td>33</td>\n",
       "      <td>male</td>\n",
       "      <td>22.705</td>\n",
       "      <td>0</td>\n",
       "      <td>no</td>\n",
       "      <td>northwest</td>\n",
       "      <td>21984.47061</td>\n",
       "      <td>26-35</td>\n",
       "      <td>27-35</td>\n",
       "    </tr>\n",
       "    <tr>\n",
       "      <th>4</th>\n",
       "      <td>32</td>\n",
       "      <td>male</td>\n",
       "      <td>28.880</td>\n",
       "      <td>0</td>\n",
       "      <td>no</td>\n",
       "      <td>northwest</td>\n",
       "      <td>3866.85520</td>\n",
       "      <td>26-35</td>\n",
       "      <td>27-35</td>\n",
       "    </tr>\n",
       "  </tbody>\n",
       "</table>\n",
       "</div>"
      ],
      "text/plain": [
       "   age     sex     bmi  children smoker     region      charges   \n",
       "0   19  female  27.900         0    yes  southwest  16884.92400  \\\n",
       "1   18    male  33.770         1     no  southeast   1725.55230   \n",
       "2   28    male  33.000         3     no  southeast   4449.46200   \n",
       "3   33    male  22.705         0     no  northwest  21984.47061   \n",
       "4   32    male  28.880         0     no  northwest   3866.85520   \n",
       "\n",
       "  generation_heur generation_cut  \n",
       "0           18-25          18-26  \n",
       "1           18-25          18-26  \n",
       "2           26-35          27-35  \n",
       "3           26-35          27-35  \n",
       "4           26-35          27-35  "
      ]
     },
     "execution_count": 46,
     "metadata": {},
     "output_type": "execute_result"
    }
   ],
   "source": [
    "### Ajouter une colonne avec codage des années de naissance \n",
    "# en relation avec une amplitude identique des classes\n",
    "## fonction pd.cut : https://pandas.pydata.org/pandas-docs/stable/reference/api/pandas.cut.html\n",
    "\n",
    "c_obs['generation_cut'] = pd.cut(c_obs['age'], 5, right=False)\n",
    "\n",
    "### Transformer le code ajouté pour qu'il soit plus lisible\n",
    "# noter qu'on a enlevé une unité afin d'avoir des valeurs incluses\n",
    "c_obs['generation_cut'] = c_obs['generation_cut'].apply(lambda x : str(int(x.left))+'-'+ str(int(x.right)-1))\n",
    "\n",
    "# Inspection\n",
    "c_obs.head(5)"
   ]
  },
  {
   "cell_type": "code",
   "execution_count": 48,
   "id": "d0ff61d1-fbce-4f4e-a84d-622561ff536b",
   "metadata": {
    "tags": []
   },
   "outputs": [
    {
     "data": {
      "text/html": [
       "<div>\n",
       "<style scoped>\n",
       "    .dataframe tbody tr th:only-of-type {\n",
       "        vertical-align: middle;\n",
       "    }\n",
       "\n",
       "    .dataframe tbody tr th {\n",
       "        vertical-align: top;\n",
       "    }\n",
       "\n",
       "    .dataframe thead th {\n",
       "        text-align: right;\n",
       "    }\n",
       "</style>\n",
       "<table border=\"1\" class=\"dataframe\">\n",
       "  <thead>\n",
       "    <tr style=\"text-align: right;\">\n",
       "      <th></th>\n",
       "      <th>age</th>\n",
       "      <th>sex</th>\n",
       "      <th>bmi</th>\n",
       "      <th>children</th>\n",
       "      <th>smoker</th>\n",
       "      <th>region</th>\n",
       "      <th>charges</th>\n",
       "      <th>generation_heur</th>\n",
       "      <th>generation_cut</th>\n",
       "      <th>generation_qcut</th>\n",
       "    </tr>\n",
       "  </thead>\n",
       "  <tbody>\n",
       "    <tr>\n",
       "      <th>0</th>\n",
       "      <td>19</td>\n",
       "      <td>female</td>\n",
       "      <td>27.900</td>\n",
       "      <td>0</td>\n",
       "      <td>yes</td>\n",
       "      <td>southwest</td>\n",
       "      <td>16884.92400</td>\n",
       "      <td>18-25</td>\n",
       "      <td>18-26</td>\n",
       "      <td>17-23</td>\n",
       "    </tr>\n",
       "    <tr>\n",
       "      <th>1</th>\n",
       "      <td>18</td>\n",
       "      <td>male</td>\n",
       "      <td>33.770</td>\n",
       "      <td>1</td>\n",
       "      <td>no</td>\n",
       "      <td>southeast</td>\n",
       "      <td>1725.55230</td>\n",
       "      <td>18-25</td>\n",
       "      <td>18-26</td>\n",
       "      <td>17-23</td>\n",
       "    </tr>\n",
       "    <tr>\n",
       "      <th>2</th>\n",
       "      <td>28</td>\n",
       "      <td>male</td>\n",
       "      <td>33.000</td>\n",
       "      <td>3</td>\n",
       "      <td>no</td>\n",
       "      <td>southeast</td>\n",
       "      <td>4449.46200</td>\n",
       "      <td>26-35</td>\n",
       "      <td>27-35</td>\n",
       "      <td>24-33</td>\n",
       "    </tr>\n",
       "    <tr>\n",
       "      <th>3</th>\n",
       "      <td>33</td>\n",
       "      <td>male</td>\n",
       "      <td>22.705</td>\n",
       "      <td>0</td>\n",
       "      <td>no</td>\n",
       "      <td>northwest</td>\n",
       "      <td>21984.47061</td>\n",
       "      <td>26-35</td>\n",
       "      <td>27-35</td>\n",
       "      <td>24-33</td>\n",
       "    </tr>\n",
       "    <tr>\n",
       "      <th>4</th>\n",
       "      <td>32</td>\n",
       "      <td>male</td>\n",
       "      <td>28.880</td>\n",
       "      <td>0</td>\n",
       "      <td>no</td>\n",
       "      <td>northwest</td>\n",
       "      <td>3866.85520</td>\n",
       "      <td>26-35</td>\n",
       "      <td>27-35</td>\n",
       "      <td>24-33</td>\n",
       "    </tr>\n",
       "  </tbody>\n",
       "</table>\n",
       "</div>"
      ],
      "text/plain": [
       "   age     sex     bmi  children smoker     region      charges   \n",
       "0   19  female  27.900         0    yes  southwest  16884.92400  \\\n",
       "1   18    male  33.770         1     no  southeast   1725.55230   \n",
       "2   28    male  33.000         3     no  southeast   4449.46200   \n",
       "3   33    male  22.705         0     no  northwest  21984.47061   \n",
       "4   32    male  28.880         0     no  northwest   3866.85520   \n",
       "\n",
       "  generation_heur generation_cut generation_qcut  \n",
       "0           18-25          18-26           17-23  \n",
       "1           18-25          18-26           17-23  \n",
       "2           26-35          27-35           24-33  \n",
       "3           26-35          27-35           24-33  \n",
       "4           26-35          27-35           24-33  "
      ]
     },
     "execution_count": 48,
     "metadata": {},
     "output_type": "execute_result"
    }
   ],
   "source": [
    "### Ajouter une colonne avec codage des années de naissance \n",
    "# en relation de classes avec effectifs identiques ou proches\n",
    "## fonction pd.cut : https://pandas.pydata.org/pandas-docs/stable/reference/api/pandas.cut.html\n",
    "\n",
    "c_obs['generation_qcut'] = pd.qcut(c_obs['age'], 5)  \n",
    " \n",
    "### Transformer le code ajouté pour qu'il soit plus lisible\n",
    "# noter qu'on a enlevé une unité afin d'avoir des valeurs incluses\n",
    "c_obs['generation_qcut'] = c_obs['generation_qcut'].apply(lambda x : str(int(x.left))+'-'+ str(int(x.right)-1))\n",
    "\n",
    "# Inspection\n",
    "c_obs.head(5)"
   ]
  },
  {
   "cell_type": "markdown",
   "id": "9cbc2e87-b7df-4304-8317-335fbf159e72",
   "metadata": {},
   "source": [
    "### Amplitudes et effectifs"
   ]
  },
  {
   "cell_type": "code",
   "execution_count": 49,
   "id": "63527831-e2c6-446b-925d-fadb4b274ed2",
   "metadata": {
    "tags": []
   },
   "outputs": [
    {
     "name": "stdout",
     "output_type": "stream",
     "text": [
      "['18-25', '26-35', '46-55', '36-45', '56-63', NaN]\n",
      "Categories (5, object): ['18-25' < '26-35' < '36-45' < '46-55' < '56-63']\n"
     ]
    },
    {
     "data": {
      "text/plain": [
       "['18-25', '26-35', '36-45', '46-55', '56-63']"
      ]
     },
     "execution_count": 49,
     "metadata": {},
     "output_type": "execute_result"
    }
   ],
   "source": [
    "### Lister les categories\n",
    "c = c_obs['generation_heur'].unique(); print(c)\n",
    "list(c.categories)"
   ]
  },
  {
   "cell_type": "code",
   "execution_count": 193,
   "id": "e0e6ac4e-c489-4537-a378-89d3441e61b5",
   "metadata": {
    "tags": []
   },
   "outputs": [
    {
     "data": {
      "text/html": [
       "<div>\n",
       "<style scoped>\n",
       "    .dataframe tbody tr th:only-of-type {\n",
       "        vertical-align: middle;\n",
       "    }\n",
       "\n",
       "    .dataframe tbody tr th {\n",
       "        vertical-align: top;\n",
       "    }\n",
       "\n",
       "    .dataframe thead th {\n",
       "        text-align: right;\n",
       "    }\n",
       "</style>\n",
       "<table border=\"1\" class=\"dataframe\">\n",
       "  <thead>\n",
       "    <tr style=\"text-align: right;\">\n",
       "      <th></th>\n",
       "      <th>effectif</th>\n",
       "    </tr>\n",
       "    <tr>\n",
       "      <th>generation_heur</th>\n",
       "      <th></th>\n",
       "    </tr>\n",
       "  </thead>\n",
       "  <tbody>\n",
       "    <tr>\n",
       "      <th>18-25</th>\n",
       "      <td>306</td>\n",
       "    </tr>\n",
       "    <tr>\n",
       "      <th>26-35</th>\n",
       "      <td>268</td>\n",
       "    </tr>\n",
       "    <tr>\n",
       "      <th>36-45</th>\n",
       "      <td>264</td>\n",
       "    </tr>\n",
       "    <tr>\n",
       "      <th>46-55</th>\n",
       "      <td>284</td>\n",
       "    </tr>\n",
       "    <tr>\n",
       "      <th>56-63</th>\n",
       "      <td>194</td>\n",
       "    </tr>\n",
       "  </tbody>\n",
       "</table>\n",
       "</div>"
      ],
      "text/plain": [
       "                 effectif\n",
       "generation_heur          \n",
       "18-25                 306\n",
       "26-35                 268\n",
       "36-45                 264\n",
       "46-55                 284\n",
       "56-63                 194"
      ]
     },
     "execution_count": 193,
     "metadata": {},
     "output_type": "execute_result"
    }
   ],
   "source": [
    "### Regrouper et compter par génération avec la fonction Pandas 'groupby' (équivalente à la précédente)\n",
    "# Pertinent en fonction de critères de domaine liés à l'âge\n",
    "gb_generation_heur = pd.DataFrame(c_obs.groupby('generation_heur').size())\n",
    "gb_generation_heur.columns = ['effectif']\n",
    "gb_generation_heur.head()"
   ]
  },
  {
   "cell_type": "code",
   "execution_count": 51,
   "id": "bea4c1dd-41cb-4cb0-bd08-ae9c212924fe",
   "metadata": {
    "tags": []
   },
   "outputs": [
    {
     "name": "stdout",
     "output_type": "stream",
     "text": [
      "['18-26', '27-35', '45-53', '36-44', '54-63']\n",
      "Categories (5, object): ['18-26' < '27-35' < '36-44' < '45-53' < '54-63']\n"
     ]
    },
    {
     "data": {
      "text/plain": [
       "['18-26', '27-35', '36-44', '45-53', '54-63']"
      ]
     },
     "execution_count": 51,
     "metadata": {},
     "output_type": "execute_result"
    }
   ],
   "source": [
    "### Lister les categories\n",
    "c = c_obs['generation_cut'].unique(); print(c)\n",
    "list(c.categories)"
   ]
  },
  {
   "cell_type": "code",
   "execution_count": 194,
   "id": "7ee56bef-598a-4134-a79a-624423f9a137",
   "metadata": {
    "tags": []
   },
   "outputs": [
    {
     "data": {
      "text/html": [
       "<div>\n",
       "<style scoped>\n",
       "    .dataframe tbody tr th:only-of-type {\n",
       "        vertical-align: middle;\n",
       "    }\n",
       "\n",
       "    .dataframe tbody tr th {\n",
       "        vertical-align: top;\n",
       "    }\n",
       "\n",
       "    .dataframe thead th {\n",
       "        text-align: right;\n",
       "    }\n",
       "</style>\n",
       "<table border=\"1\" class=\"dataframe\">\n",
       "  <thead>\n",
       "    <tr style=\"text-align: right;\">\n",
       "      <th></th>\n",
       "      <th>effectif</th>\n",
       "    </tr>\n",
       "    <tr>\n",
       "      <th>generation_cut</th>\n",
       "      <th></th>\n",
       "    </tr>\n",
       "  </thead>\n",
       "  <tbody>\n",
       "    <tr>\n",
       "      <th>18-26</th>\n",
       "      <td>362</td>\n",
       "    </tr>\n",
       "    <tr>\n",
       "      <th>27-35</th>\n",
       "      <td>237</td>\n",
       "    </tr>\n",
       "    <tr>\n",
       "      <th>36-44</th>\n",
       "      <td>239</td>\n",
       "    </tr>\n",
       "    <tr>\n",
       "      <th>45-53</th>\n",
       "      <td>258</td>\n",
       "    </tr>\n",
       "    <tr>\n",
       "      <th>54-63</th>\n",
       "      <td>242</td>\n",
       "    </tr>\n",
       "  </tbody>\n",
       "</table>\n",
       "</div>"
      ],
      "text/plain": [
       "                effectif\n",
       "generation_cut          \n",
       "18-26                362\n",
       "27-35                237\n",
       "36-44                239\n",
       "45-53                258\n",
       "54-63                242"
      ]
     },
     "execution_count": 194,
     "metadata": {},
     "output_type": "execute_result"
    }
   ],
   "source": [
    "### Regrouper et compter par génération avec la fonction Pandas 'groupby' (équivalente à la précédente)\n",
    "# Amplitude égale mais effectifs différents: le moins significatif scientifiquement?\n",
    "gb_generation_cut = pd.DataFrame(c_obs.groupby('generation_cut').size())\n",
    "gb_generation_cut.columns = ['effectif']\n",
    "gb_generation_cut.head()"
   ]
  },
  {
   "cell_type": "code",
   "execution_count": 53,
   "id": "56b0e1bb-9c23-4a73-af56-c9661f5489ee",
   "metadata": {
    "tags": []
   },
   "outputs": [
    {
     "name": "stdout",
     "output_type": "stream",
     "text": [
      "['17-23', '24-33', '44-53', '34-43', '54-63']\n",
      "Categories (5, object): ['17-23' < '24-33' < '34-43' < '44-53' < '54-63']\n"
     ]
    },
    {
     "data": {
      "text/plain": [
       "['17-23', '24-33', '34-43', '44-53', '54-63']"
      ]
     },
     "execution_count": 53,
     "metadata": {},
     "output_type": "execute_result"
    }
   ],
   "source": [
    "### Lister les categories\n",
    "c = c_obs['generation_qcut'].unique(); print(c)\n",
    "list(c.categories)"
   ]
  },
  {
   "cell_type": "code",
   "execution_count": 195,
   "id": "38195971-ce05-410c-b6db-cbcd60eea025",
   "metadata": {
    "tags": []
   },
   "outputs": [
    {
     "data": {
      "text/html": [
       "<div>\n",
       "<style scoped>\n",
       "    .dataframe tbody tr th:only-of-type {\n",
       "        vertical-align: middle;\n",
       "    }\n",
       "\n",
       "    .dataframe tbody tr th {\n",
       "        vertical-align: top;\n",
       "    }\n",
       "\n",
       "    .dataframe thead th {\n",
       "        text-align: right;\n",
       "    }\n",
       "</style>\n",
       "<table border=\"1\" class=\"dataframe\">\n",
       "  <thead>\n",
       "    <tr style=\"text-align: right;\">\n",
       "      <th></th>\n",
       "      <th>effectif</th>\n",
       "    </tr>\n",
       "    <tr>\n",
       "      <th>generation_qcut</th>\n",
       "      <th></th>\n",
       "    </tr>\n",
       "  </thead>\n",
       "  <tbody>\n",
       "    <tr>\n",
       "      <th>17-23</th>\n",
       "      <td>278</td>\n",
       "    </tr>\n",
       "    <tr>\n",
       "      <th>24-33</th>\n",
       "      <td>271</td>\n",
       "    </tr>\n",
       "    <tr>\n",
       "      <th>34-43</th>\n",
       "      <td>260</td>\n",
       "    </tr>\n",
       "    <tr>\n",
       "      <th>44-53</th>\n",
       "      <td>287</td>\n",
       "    </tr>\n",
       "    <tr>\n",
       "      <th>54-63</th>\n",
       "      <td>242</td>\n",
       "    </tr>\n",
       "  </tbody>\n",
       "</table>\n",
       "</div>"
      ],
      "text/plain": [
       "                 effectif\n",
       "generation_qcut          \n",
       "17-23                 278\n",
       "24-33                 271\n",
       "34-43                 260\n",
       "44-53                 287\n",
       "54-63                 242"
      ]
     },
     "execution_count": 195,
     "metadata": {},
     "output_type": "execute_result"
    }
   ],
   "source": [
    "### Regrouper et compter par génération avec la fonction Pandas 'groupby' (équivalente à la précédente)\n",
    "# Les effectifs sont presque identiques, l'amplitude des classes en découle\n",
    "gb_generation_qcut = pd.DataFrame(c_obs.groupby('generation_qcut').size())\n",
    "gb_generation_qcut.columns = ['effectif']\n",
    "gb_generation_qcut.head()"
   ]
  },
  {
   "cell_type": "markdown",
   "id": "c9390c50-5640-49f3-a4a9-bcf37b73ba02",
   "metadata": {},
   "source": [
    "## Représentation graphique: Diagramme à barres\n",
    "\n",
    "Comparer les différents cas de figure, en utilisant alternativement l'un ou l'autre scénario de classement"
   ]
  },
  {
   "cell_type": "code",
   "execution_count": 55,
   "id": "6fc44a82-ad30-4645-9993-8699f4292729",
   "metadata": {
    "tags": []
   },
   "outputs": [],
   "source": [
    "objects = [l for l in gb_generation_heur.index]\n",
    "eff = [l for l in gb_generation_heur['effectif']]\n",
    "nom = 'heur'"
   ]
  },
  {
   "cell_type": "code",
   "execution_count": 56,
   "id": "01a97ab3-a454-445a-904b-6e5baa427341",
   "metadata": {
    "tags": []
   },
   "outputs": [],
   "source": [
    "objects = [l for l in gb_generation_cut.index]\n",
    "eff = [l for l in gb_generation_cut['effectif']]\n",
    "nom ='cut'"
   ]
  },
  {
   "cell_type": "code",
   "execution_count": 57,
   "id": "e71e0a8a-2de2-4319-a361-a82bffe71524",
   "metadata": {
    "tags": []
   },
   "outputs": [],
   "source": [
    "objects = [l for l in gb_generation_qcut.index]\n",
    "eff = [l for l in gb_generation_qcut['effectif']]\n",
    "nom = 'qcut'"
   ]
  },
  {
   "cell_type": "code",
   "execution_count": null,
   "id": "7bb866af-95ee-45a8-b07f-d2df2218d0de",
   "metadata": {},
   "outputs": [],
   "source": []
  },
  {
   "cell_type": "code",
   "execution_count": 58,
   "id": "f33f5872-0861-41c7-b890-1a8fb517ae2d",
   "metadata": {
    "tags": []
   },
   "outputs": [
    {
     "data": {
      "image/png": "[encoded data removed]",
      "text/plain": [
       "<Figure size 1600x800 with 1 Axes>"
      ]
     },
     "metadata": {},
     "output_type": "display_data"
    }
   ],
   "source": [
    "### Diagramme à barre, non adapté et trompeur: ce n'est pas un vrai histogramme\n",
    "# Attention aux différentes étendues des ages, les densités des tranches sont différentes\n",
    "\n",
    "p1 = plt.bar(objects, eff)\n",
    "\n",
    "plt.ylabel('Effectif')\n",
    "plt.title(f\"Classes par '{nom}' : diagramme à barre de la distribution\")\n",
    "plt.gcf().set_size_inches(16, 8)\n",
    "# supported formats: eps, pdf, pgf, png, ps, raw, rgba, svg, svgz\n",
    "# plt.savefig('exported_pictures/effectifs_annees_reference_par_periode.png', dpi=100, bbox_inches = \"tight\") #pdf, svg\n",
    "plt.xticks(rotation=45)\n",
    "plt.show()\n"
   ]
  },
  {
   "cell_type": "markdown",
   "id": "d2c9fb63-3687-4518-93ff-abc846a9e519",
   "metadata": {},
   "source": [
    "## Histogramme"
   ]
  },
  {
   "cell_type": "code",
   "execution_count": 196,
   "id": "2b588a8f-6885-4841-ad06-5c6d1e207b48",
   "metadata": {
    "tags": []
   },
   "outputs": [],
   "source": [
    "### Représentation automatique\n",
    "# Dix classes de la même amplitude en abscisses, effectifs (!) en ordonnées\n",
    "\n",
    "#c_obs['age'].hist()"
   ]
  },
  {
   "cell_type": "markdown",
   "id": "762dfd90-c9f5-4333-a55d-493fe449bd25",
   "metadata": {},
   "source": [
    "### Application aux différents découpages des générations (exemples)"
   ]
  },
  {
   "cell_type": "code",
   "execution_count": 197,
   "id": "68e3daac-fa3f-44ee-bfd5-64820ec512a8",
   "metadata": {
    "tags": []
   },
   "outputs": [
    {
     "data": {
      "text/html": [
       "<div>\n",
       "<style scoped>\n",
       "    .dataframe tbody tr th:only-of-type {\n",
       "        vertical-align: middle;\n",
       "    }\n",
       "\n",
       "    .dataframe tbody tr th {\n",
       "        vertical-align: top;\n",
       "    }\n",
       "\n",
       "    .dataframe thead th {\n",
       "        text-align: right;\n",
       "    }\n",
       "</style>\n",
       "<table border=\"1\" class=\"dataframe\">\n",
       "  <thead>\n",
       "    <tr style=\"text-align: right;\">\n",
       "      <th></th>\n",
       "      <th>generation</th>\n",
       "      <th>effectif</th>\n",
       "    </tr>\n",
       "  </thead>\n",
       "  <tbody>\n",
       "    <tr>\n",
       "      <th>0</th>\n",
       "      <td>18-25</td>\n",
       "      <td>306</td>\n",
       "    </tr>\n",
       "    <tr>\n",
       "      <th>1</th>\n",
       "      <td>26-35</td>\n",
       "      <td>268</td>\n",
       "    </tr>\n",
       "    <tr>\n",
       "      <th>2</th>\n",
       "      <td>36-45</td>\n",
       "      <td>264</td>\n",
       "    </tr>\n",
       "    <tr>\n",
       "      <th>3</th>\n",
       "      <td>46-55</td>\n",
       "      <td>284</td>\n",
       "    </tr>\n",
       "    <tr>\n",
       "      <th>4</th>\n",
       "      <td>56-63</td>\n",
       "      <td>194</td>\n",
       "    </tr>\n",
       "  </tbody>\n",
       "</table>\n",
       "</div>"
      ],
      "text/plain": [
       "  generation  effectif\n",
       "0      18-25       306\n",
       "1      26-35       268\n",
       "2      36-45       264\n",
       "3      46-55       284\n",
       "4      56-63       194"
      ]
     },
     "execution_count": 197,
     "metadata": {},
     "output_type": "execute_result"
    }
   ],
   "source": [
    "gb_generation_heur = gb_generation_heur.reset_index()\n",
    "gb_generation_heur.columns=['generation', 'effectif']\n",
    "gb_generation_heur.head()"
   ]
  },
  {
   "cell_type": "code",
   "execution_count": 198,
   "id": "00772129-a949-444f-9133-519d181dab65",
   "metadata": {
    "tags": []
   },
   "outputs": [
    {
     "data": {
      "text/html": [
       "<div>\n",
       "<style scoped>\n",
       "    .dataframe tbody tr th:only-of-type {\n",
       "        vertical-align: middle;\n",
       "    }\n",
       "\n",
       "    .dataframe tbody tr th {\n",
       "        vertical-align: top;\n",
       "    }\n",
       "\n",
       "    .dataframe thead th {\n",
       "        text-align: right;\n",
       "    }\n",
       "</style>\n",
       "<table border=\"1\" class=\"dataframe\">\n",
       "  <thead>\n",
       "    <tr style=\"text-align: right;\">\n",
       "      <th></th>\n",
       "      <th>generation</th>\n",
       "      <th>effectif</th>\n",
       "    </tr>\n",
       "  </thead>\n",
       "  <tbody>\n",
       "    <tr>\n",
       "      <th>0</th>\n",
       "      <td>17-23</td>\n",
       "      <td>278</td>\n",
       "    </tr>\n",
       "    <tr>\n",
       "      <th>1</th>\n",
       "      <td>24-33</td>\n",
       "      <td>271</td>\n",
       "    </tr>\n",
       "    <tr>\n",
       "      <th>2</th>\n",
       "      <td>34-43</td>\n",
       "      <td>260</td>\n",
       "    </tr>\n",
       "    <tr>\n",
       "      <th>3</th>\n",
       "      <td>44-53</td>\n",
       "      <td>287</td>\n",
       "    </tr>\n",
       "    <tr>\n",
       "      <th>4</th>\n",
       "      <td>54-63</td>\n",
       "      <td>242</td>\n",
       "    </tr>\n",
       "  </tbody>\n",
       "</table>\n",
       "</div>"
      ],
      "text/plain": [
       "  generation  effectif\n",
       "0      17-23       278\n",
       "1      24-33       271\n",
       "2      34-43       260\n",
       "3      44-53       287\n",
       "4      54-63       242"
      ]
     },
     "execution_count": 198,
     "metadata": {},
     "output_type": "execute_result"
    }
   ],
   "source": [
    "gb_generation_qcut = gb_generation_qcut.reset_index()\n",
    "gb_generation_qcut.columns=['generation', 'effectif']\n",
    "gb_generation_qcut.head()"
   ]
  },
  {
   "cell_type": "code",
   "execution_count": 199,
   "id": "09a5e76b-28d1-41cb-84e0-5e1e3c248e12",
   "metadata": {
    "tags": []
   },
   "outputs": [],
   "source": [
    "### L'histogramme est basé sur la densité de différentes tranches\n",
    "#  Cette fonction calcule la densité des tranches\n",
    "def calculer_densite(ligne):\n",
    "    i = ligne['generation'].split('-')\n",
    "    # print(i)\n",
    "    ampl = int(i[1])-int(i[0])\n",
    "    # print(ampl)\n",
    "    d = round(ligne['frequence']/ampl,4)\n",
    "    return(d)"
   ]
  },
  {
   "cell_type": "code",
   "execution_count": 200,
   "id": "040b85cb-58fb-4cdd-a7f0-4850b44e79bf",
   "metadata": {
    "tags": []
   },
   "outputs": [],
   "source": [
    "### Séparer et préparer les différentes valeurs\n",
    "def preparer_valeurs(df):\n",
    "    df['frequence'] = (df['effectif']/df['effectif'].sum()).round(4)\n",
    "    df['densité'] = df.apply(calculer_densite, axis=1)\n",
    "    df['start'] = df.apply(lambda x : int(x['generation'].split('-')[0]), axis=1)\n",
    "    df['width'] = df.apply(lambda x : int(x['generation'].split('-')[1])-int(x['generation'].split('-')[0]), axis=1)\n",
    "    return df"
   ]
  },
  {
   "cell_type": "code",
   "execution_count": 201,
   "id": "4873ac37-d2f3-47f0-b1bb-b12ff553d840",
   "metadata": {
    "tags": []
   },
   "outputs": [
    {
     "data": {
      "text/html": [
       "<div>\n",
       "<style scoped>\n",
       "    .dataframe tbody tr th:only-of-type {\n",
       "        vertical-align: middle;\n",
       "    }\n",
       "\n",
       "    .dataframe tbody tr th {\n",
       "        vertical-align: top;\n",
       "    }\n",
       "\n",
       "    .dataframe thead th {\n",
       "        text-align: right;\n",
       "    }\n",
       "</style>\n",
       "<table border=\"1\" class=\"dataframe\">\n",
       "  <thead>\n",
       "    <tr style=\"text-align: right;\">\n",
       "      <th></th>\n",
       "      <th>generation</th>\n",
       "      <th>effectif</th>\n",
       "      <th>frequence</th>\n",
       "      <th>densité</th>\n",
       "      <th>start</th>\n",
       "      <th>width</th>\n",
       "    </tr>\n",
       "  </thead>\n",
       "  <tbody>\n",
       "    <tr>\n",
       "      <th>0</th>\n",
       "      <td>18-25</td>\n",
       "      <td>306</td>\n",
       "      <td>0.2325</td>\n",
       "      <td>0.0332</td>\n",
       "      <td>18</td>\n",
       "      <td>7</td>\n",
       "    </tr>\n",
       "    <tr>\n",
       "      <th>1</th>\n",
       "      <td>26-35</td>\n",
       "      <td>268</td>\n",
       "      <td>0.2036</td>\n",
       "      <td>0.0226</td>\n",
       "      <td>26</td>\n",
       "      <td>9</td>\n",
       "    </tr>\n",
       "    <tr>\n",
       "      <th>2</th>\n",
       "      <td>36-45</td>\n",
       "      <td>264</td>\n",
       "      <td>0.2006</td>\n",
       "      <td>0.0223</td>\n",
       "      <td>36</td>\n",
       "      <td>9</td>\n",
       "    </tr>\n",
       "    <tr>\n",
       "      <th>3</th>\n",
       "      <td>46-55</td>\n",
       "      <td>284</td>\n",
       "      <td>0.2158</td>\n",
       "      <td>0.0240</td>\n",
       "      <td>46</td>\n",
       "      <td>9</td>\n",
       "    </tr>\n",
       "    <tr>\n",
       "      <th>4</th>\n",
       "      <td>56-63</td>\n",
       "      <td>194</td>\n",
       "      <td>0.1474</td>\n",
       "      <td>0.0211</td>\n",
       "      <td>56</td>\n",
       "      <td>7</td>\n",
       "    </tr>\n",
       "  </tbody>\n",
       "</table>\n",
       "</div>"
      ],
      "text/plain": [
       "  generation  effectif  frequence  densité  start  width\n",
       "0      18-25       306     0.2325   0.0332     18      7\n",
       "1      26-35       268     0.2036   0.0226     26      9\n",
       "2      36-45       264     0.2006   0.0223     36      9\n",
       "3      46-55       284     0.2158   0.0240     46      9\n",
       "4      56-63       194     0.1474   0.0211     56      7"
      ]
     },
     "execution_count": 201,
     "metadata": {},
     "output_type": "execute_result"
    }
   ],
   "source": [
    "ndf = preparer_valeurs(gb_generation_heur)\n",
    "ndf.head()"
   ]
  },
  {
   "cell_type": "code",
   "execution_count": 65,
   "id": "c1aee99e-b4cc-470f-9791-5ac61904f47a",
   "metadata": {
    "tags": []
   },
   "outputs": [
    {
     "data": {
      "text/html": [
       "<div>\n",
       "<style scoped>\n",
       "    .dataframe tbody tr th:only-of-type {\n",
       "        vertical-align: middle;\n",
       "    }\n",
       "\n",
       "    .dataframe tbody tr th {\n",
       "        vertical-align: top;\n",
       "    }\n",
       "\n",
       "    .dataframe thead th {\n",
       "        text-align: right;\n",
       "    }\n",
       "</style>\n",
       "<table border=\"1\" class=\"dataframe\">\n",
       "  <thead>\n",
       "    <tr style=\"text-align: right;\">\n",
       "      <th></th>\n",
       "      <th>generation</th>\n",
       "      <th>effectif</th>\n",
       "      <th>frequence</th>\n",
       "      <th>densité</th>\n",
       "      <th>start</th>\n",
       "      <th>width</th>\n",
       "    </tr>\n",
       "  </thead>\n",
       "  <tbody>\n",
       "    <tr>\n",
       "      <th>0</th>\n",
       "      <td>17-23</td>\n",
       "      <td>278</td>\n",
       "      <td>0.2078</td>\n",
       "      <td>0.0346</td>\n",
       "      <td>17</td>\n",
       "      <td>6</td>\n",
       "    </tr>\n",
       "    <tr>\n",
       "      <th>1</th>\n",
       "      <td>24-33</td>\n",
       "      <td>271</td>\n",
       "      <td>0.2025</td>\n",
       "      <td>0.0225</td>\n",
       "      <td>24</td>\n",
       "      <td>9</td>\n",
       "    </tr>\n",
       "    <tr>\n",
       "      <th>2</th>\n",
       "      <td>34-43</td>\n",
       "      <td>260</td>\n",
       "      <td>0.1943</td>\n",
       "      <td>0.0216</td>\n",
       "      <td>34</td>\n",
       "      <td>9</td>\n",
       "    </tr>\n",
       "    <tr>\n",
       "      <th>3</th>\n",
       "      <td>44-53</td>\n",
       "      <td>287</td>\n",
       "      <td>0.2145</td>\n",
       "      <td>0.0238</td>\n",
       "      <td>44</td>\n",
       "      <td>9</td>\n",
       "    </tr>\n",
       "    <tr>\n",
       "      <th>4</th>\n",
       "      <td>54-63</td>\n",
       "      <td>242</td>\n",
       "      <td>0.1809</td>\n",
       "      <td>0.0201</td>\n",
       "      <td>54</td>\n",
       "      <td>9</td>\n",
       "    </tr>\n",
       "  </tbody>\n",
       "</table>\n",
       "</div>"
      ],
      "text/plain": [
       "  generation  effectif  frequence  densité  start  width\n",
       "0      17-23       278     0.2078   0.0346     17      6\n",
       "1      24-33       271     0.2025   0.0225     24      9\n",
       "2      34-43       260     0.1943   0.0216     34      9\n",
       "3      44-53       287     0.2145   0.0238     44      9\n",
       "4      54-63       242     0.1809   0.0201     54      9"
      ]
     },
     "execution_count": 65,
     "metadata": {},
     "output_type": "execute_result"
    }
   ],
   "source": [
    "ndf1 = preparer_valeurs(gb_generation_qcut)\n",
    "ndf1.head()"
   ]
  },
  {
   "cell_type": "code",
   "execution_count": 67,
   "id": "d232549f-9f87-4a6c-9c03-30ad2ac2a00d",
   "metadata": {
    "tags": []
   },
   "outputs": [
    {
     "data": {
      "image/png": "[encoded data removed]",
      "text/plain": [
       "<Figure size 1600x800 with 1 Axes>"
      ]
     },
     "metadata": {},
     "output_type": "display_data"
    }
   ],
   "source": [
    "### Histogramme\n",
    "# La hauteur des barres, en abscisses, représente la densité non l'effectif, \n",
    "# l'effectif est représenté par l'aire: à effectif égale aire égale\n",
    "\n",
    "## Exécuter alternativement et observer ndf et ndf1\n",
    "\n",
    "df = ndf # ndf ndf1\n",
    "\n",
    "fig,ax = plt.subplots(1,1)\n",
    "\n",
    "objects = [l for l in df['start']]\n",
    "eff = [l for l in df['densité']]\n",
    "width = [l+0.9 if l < 10 else l for l in df['width']]\n",
    "\n",
    "p1 = plt.bar(objects, eff, width = width, align=\"edge\")\n",
    "ax.set_xticks([18, 26, 36, 46, 56, 64])\n",
    "plt.ylabel('Densité')\n",
    "plt.title('Histogramme des âges')\n",
    "plt.gcf().set_size_inches(16, 8)\n",
    "# supported formats: eps, pdf, pgf, png, ps, raw, rgba, svg, svgz\n",
    "# plt.savefig('exported_pictures/effectifs_annees_reference_par_periode.png', dpi=100, bbox_inches = \"tight\") #pdf, svg\n",
    "plt.xticks(rotation=45)\n",
    "plt.show()\n"
   ]
  },
  {
   "cell_type": "markdown",
   "id": "0b86ff46-c40f-44ba-9bde-c0b4384d5d4a",
   "metadata": {
    "tags": []
   },
   "source": [
    "## Distribution de probabilité normale et standardisée\n",
    "\n",
    "* [Loi normale](https://fr.wikipedia.org/wiki/Loi_normale) (Wikpedia)\n",
    "* Ci-dessous, représentation utilisant les librairies Numpy (pour produire les données) et Seaborn (pour les représenter)\n",
    "\n",
    "### QQ Plots\n",
    "\"Q-Q plots are a handy tool for visually inspecting how well your data matches a known probability distribution (prob dsn). If the match is good, the data should line up more or less diagonally in the Q-Q plot. A common usage is to verify normality, i.e. how well the data matches a Normal or Gaussian dsn.\"\n",
    "https://www.r-bloggers.com/2011/08/q-q-plots-for-multi-modal-performance-data/"
   ]
  },
  {
   "cell_type": "code",
   "execution_count": 202,
   "id": "f98a6b82-f5cd-453b-a718-a85287a9ff3b",
   "metadata": {
    "tags": []
   },
   "outputs": [],
   "source": [
    "### Représentation automatique\n",
    "# Densité !\n",
    "# https://pandas.pydata.org/pandas-docs/stable/reference/api/pandas.DataFrame.plot.density.html\n",
    "# https://stackoverflow.com/questions/25577317/pandas-histogram-in-python-possible-to-make-probability-density-instead-of-coun\n",
    "\n",
    "#c_obs['age'].plot(kind='hist', density=True, bins=20)\n",
    "#c_obs['age'].plot.kde()\n",
    "#plt.show()"
   ]
  },
  {
   "cell_type": "code",
   "execution_count": 203,
   "id": "ce0bc877-4ee7-47d9-9033-0ec5281d7067",
   "metadata": {
    "tags": []
   },
   "outputs": [],
   "source": [
    "## Ajout d'une colonne avec distribution normalisée\n",
    "#age = c_obs['age']\n",
    "\n",
    "#m = age.mean()\n",
    "#std = age.std()\n",
    "#print(m, std, '\\n')\n",
    "#c_obs['age_norm'] = c_obs['age'].apply(lambda x : (x-m)/std )\n",
    "#c_obs.head(10)"
   ]
  },
  {
   "cell_type": "code",
   "execution_count": 204,
   "id": "d8dc91cc-f1b4-48e2-9732-2821e8b7ca09",
   "metadata": {
    "tags": []
   },
   "outputs": [],
   "source": [
    "#c_obs['age_norm'].plot(kind='hist', density=True, bins=30)\n",
    "#c_obs['age_norm'].plot.kde()\n",
    "#plt.show()"
   ]
  },
  {
   "cell_type": "code",
   "execution_count": 205,
   "id": "6d2917cc-fe68-4794-8af8-a8a616737ad3",
   "metadata": {
    "tags": []
   },
   "outputs": [],
   "source": [
    "### Probabilité totale = aire sous la courbe = 1\n",
    "# https://seaborn.pydata.org/tutorial/distributions.html\n",
    "# https://www.statology.org/seaborn-normal-distribution/\n",
    "\n",
    "#np.random.seed(0)\n",
    "\n",
    "# Crée un jeu de donnes artificiel en forme normale \n",
    "#x = np.random.normal(size=1000)\n",
    "\n",
    "#create normal distribution curve\n",
    "#sns.displot(x, kde=True, stat='density')"
   ]
  },
  {
   "cell_type": "code",
   "execution_count": 206,
   "id": "59292a89-c5ad-4fda-98f4-56b8f64dfc1d",
   "metadata": {
    "tags": []
   },
   "outputs": [],
   "source": [
    "## QQ Plot d'une distribution normale\n",
    "# https://www.statology.org/q-q-plot-python/\n",
    "#sm.qqplot(x, line='45', fit=True)\n",
    "#plt.show()"
   ]
  },
  {
   "cell_type": "code",
   "execution_count": 207,
   "id": "dc66683b-198b-4ca4-a6ee-bc8bb31c8568",
   "metadata": {
    "tags": []
   },
   "outputs": [],
   "source": [
    "### Test de Shapiro-Wilk: hypothèse H0 = distribution normale\n",
    "# https://www.statology.org/shapiro-wilk-test-python/\n",
    "# https://docs.scipy.org/doc/scipy/reference/generated/scipy.stats.shapiro.html\n",
    "#stats.shapiro(x)\n",
    "# Commentaire: la valeur de probabilité n'étant pas inférieure à 0.05 on ne peut par rejeteur l'H0 et donc la distribution est normale à 95% de probabilitéc"
   ]
  },
  {
   "cell_type": "code",
   "execution_count": 208,
   "id": "dfe8e6ec-b4b7-4199-8d74-85b8532b77fa",
   "metadata": {
    "tags": []
   },
   "outputs": [],
   "source": [
    "### QQ Plot des données concernant l'age de l'échantillon\n",
    "# https://www.statsmodels.org/stable/generated/statsmodels.graphics.gofplots.qqplot.html#statsmodels.graphics.gofplots.qqplot\n",
    "# fit = True normalise automatiquement les données\n",
    "#sm.qqplot(age, line='s', fit=True)\n",
    "#plt.arrow(x=-0.2, y=-1.7, dx=-0.2, dy=+0.7, width=.02, facecolor='red') \n",
    "#plt.arrow(x=0.4, y=1.8, dx=0.2, dy=-0.5, width=.02, facecolor='red') \n",
    "#plt.show()"
   ]
  },
  {
   "cell_type": "code",
   "execution_count": 78,
   "id": "ca83ac0e-ca0c-4848-9f6a-e18ca08e55c9",
   "metadata": {
    "tags": []
   },
   "outputs": [],
   "source": [
    "### Test de Shapiro-Wilk: hypothèse H0 = distribution normale\n",
    "#sa = stats.shapiro(age)\n",
    "# Commentaire: la valeur de probabilité est 0.000024199 et donc laragement inférieure à 0.05:\n",
    "# on doit donc rejeteur l'H0 et considérer que la distribution ne suit pas la loi normale avec 95% de probabilité"
   ]
  },
  {
   "cell_type": "code",
   "execution_count": 209,
   "id": "87f5e259-039b-447b-9d84-3b1fde4389b9",
   "metadata": {
    "tags": []
   },
   "outputs": [],
   "source": [
    "#from decimal import Decimal\n",
    "#print(f'Valeur p en décimales: {Decimal(sa.pvalue)} ({sa.statistic}, {sa.pvalue})')"
   ]
  },
  {
   "cell_type": "markdown",
   "id": "e50fcb40-8d52-4037-8753-9f2a534f09b5",
   "metadata": {
    "jp-MarkdownHeadingCollapsed": true,
    "tags": []
   },
   "source": [
    "Cette distribution a une apparence bimodale:\n",
    "* Bimodal/multimodal probability distribution: https://en.wikipedia.org/wiki/Multimodal_distribution\n",
    "* https://towardsdatascience.com/understand-q-q-plot-using-simple-python-4f83d5b89f8f\n",
    "\n"
   ]
  },
  {
   "cell_type": "markdown",
   "id": "3f40e1ab-a785-4f95-bc25-2f83cd62a487",
   "metadata": {},
   "source": [
    "## Exploration des charges\n",
    "\n",
    "Variable quantitative continue\n",
    "\n",
    "On applique une méthodologie semblable à la variable précédente avec quelques différences"
   ]
  },
  {
   "cell_type": "code",
   "execution_count": 210,
   "id": "be9925d6-ea33-4ce4-b2cf-b778b725b252",
   "metadata": {
    "tags": []
   },
   "outputs": [
    {
     "data": {
      "text/plain": [
       "0    16884.92400\n",
       "1     1725.55230\n",
       "2     4449.46200\n",
       "3    21984.47061\n",
       "4     3866.85520\n",
       "Name: charges, dtype: float64"
      ]
     },
     "execution_count": 210,
     "metadata": {},
     "output_type": "execute_result"
    }
   ],
   "source": [
    "revenu = ins['charges']\n",
    "revenu.head()"
   ]
  },
  {
   "cell_type": "code",
   "execution_count": 211,
   "id": "f0acf107-0d2d-4b3f-b343-9c7fd7eb6881",
   "metadata": {
    "tags": []
   },
   "outputs": [
    {
     "data": {
      "text/plain": [
       "940     1121.8739\n",
       "808     1131.5066\n",
       "1244    1135.9407\n",
       "663     1136.3994\n",
       "22      1137.0110\n",
       "Name: charges, dtype: float64"
      ]
     },
     "execution_count": 211,
     "metadata": {},
     "output_type": "execute_result"
    }
   ],
   "source": [
    "s_charges = revenu.sort_values()\n",
    "s_charges.head()"
   ]
  },
  {
   "cell_type": "code",
   "execution_count": 88,
   "id": "ca2f5b1e-fd77-4b53-9c31-a8c2c7c4fb00",
   "metadata": {
    "tags": []
   },
   "outputs": [
    {
     "data": {
      "image/png": "[encoded data removed]",
      "text/plain": [
       "<Figure size 2500x700 with 1 Axes>"
      ]
     },
     "metadata": {},
     "output_type": "display_data"
    }
   ],
   "source": [
    "### Affichage des charges triées\n",
    "ax = s_charges.plot.hist(x='lab', y='val', rot=70, figsize=(25,7))\n",
    "ax.tick_params(axis = 'x', labelsize = 8)"
   ]
  },
  {
   "cell_type": "code",
   "execution_count": 212,
   "id": "9298490d-4dc5-4cb9-8456-51d5340e84c1",
   "metadata": {
    "tags": []
   },
   "outputs": [
    {
     "data": {
      "text/plain": [
       "count     1338.0\n",
       "mean     13270.0\n",
       "std      12110.0\n",
       "min       1122.0\n",
       "25%       4740.0\n",
       "50%       9382.0\n",
       "75%      16640.0\n",
       "max      63770.0\n",
       "Name: charges, dtype: float64"
      ]
     },
     "execution_count": 212,
     "metadata": {},
     "output_type": "execute_result"
    }
   ],
   "source": [
    "### Centralité et dispersion\n",
    "revenu.describe().round(0)"
   ]
  },
  {
   "cell_type": "code",
   "execution_count": 213,
   "id": "ad62a569-72f3-483e-bf46-9e0417d1147d",
   "metadata": {
    "tags": []
   },
   "outputs": [],
   "source": [
    "### Diagramme-boîte ou boîte-à-moustache pour représenter la dispersion\n",
    "# Ligne centrale = la médiane. Le box est entre 1er et 3e quartile\n",
    "#  Noter qu'on utilise le DataFrame car cet objet dispose d'une méthode boxplot\n",
    "# ce qui n'est pas le cas d'une série (pd.Series)\n",
    "#ins.boxplot(column=['charges'], vert=False, figsize=(16,4))"
   ]
  },
  {
   "cell_type": "code",
   "execution_count": 93,
   "id": "a3f38141-0e46-49f1-853b-a66a2a9ad28a",
   "metadata": {
    "tags": []
   },
   "outputs": [
    {
     "data": {
      "text/plain": [
       "<Axes: >"
      ]
     },
     "execution_count": 93,
     "metadata": {},
     "output_type": "execute_result"
    },
    {
     "data": {
      "image/png": "[encoded data removed]",
      "text/plain": [
       "<Figure size 1600x400 with 1 Axes>"
      ]
     },
     "metadata": {},
     "output_type": "display_data"
    }
   ],
   "source": [
    "###Eliminer les valeurs extrèmes gâce à un filtre\n",
    "ins[ins['charges'] < 16000].boxplot(column=['charges'], vert=False, figsize=(16,4))"
   ]
  },
  {
   "cell_type": "code",
   "execution_count": 214,
   "id": "4f43277c-6e44-41e2-bafa-ef0e01e46d83",
   "metadata": {
    "tags": []
   },
   "outputs": [],
   "source": [
    "### Le violin plot montre bien où se situent les charges les plus fréquentes\n",
    "\n",
    "#sns.set_theme(style=\"whitegrid\")\n",
    "\n",
    "#sns.set(rc={\"figure.figsize\":(30, 8)})\n",
    "\n",
    "#a = ins[\"charges\"]\n",
    "\n",
    "#ax = sns.violinplot(x=a)\n",
    "\n",
    "### Noter que au delà des limites les valeurs sont postulées\n",
    "#ax.set_xlim(left=min(a), right=max(a))\n",
    "\n"
   ]
  },
  {
   "cell_type": "code",
   "execution_count": 215,
   "id": "f9049e45-9c6c-4816-9dc2-72d35e100889",
   "metadata": {
    "tags": []
   },
   "outputs": [],
   "source": [
    "### Le violin plot montre bien où se situent les charges les plus fréquentes\n",
    "\n",
    "#sns.set_theme(style=\"whitegrid\")\n",
    "\n",
    "#sns.set(rc={\"figure.figsize\":(30, 8)})\n",
    "\n",
    "#a = ins[ins['charges'] < 12000][\"charges\"]\n",
    "\n",
    "#ax = sns.violinplot(x=a)\n",
    "\n",
    "### Noter que au delà des limites les valeurs sont postulées\n",
    "#ax.set_xlim(left=min(a), right=max(a))\n",
    "\n"
   ]
  },
  {
   "cell_type": "code",
   "execution_count": 216,
   "id": "fddcd328-736a-4143-b831-09d84833c78e",
   "metadata": {
    "tags": []
   },
   "outputs": [
    {
     "data": {
      "text/html": [
       "<div>\n",
       "<style scoped>\n",
       "    .dataframe tbody tr th:only-of-type {\n",
       "        vertical-align: middle;\n",
       "    }\n",
       "\n",
       "    .dataframe tbody tr th {\n",
       "        vertical-align: top;\n",
       "    }\n",
       "\n",
       "    .dataframe thead th {\n",
       "        text-align: right;\n",
       "    }\n",
       "</style>\n",
       "<table border=\"1\" class=\"dataframe\">\n",
       "  <thead>\n",
       "    <tr style=\"text-align: right;\">\n",
       "      <th></th>\n",
       "      <th>charges</th>\n",
       "      <th>qcut</th>\n",
       "    </tr>\n",
       "  </thead>\n",
       "  <tbody>\n",
       "    <tr>\n",
       "      <th>940</th>\n",
       "      <td>1121.8739</td>\n",
       "      <td>(1121.873, 4740.287]</td>\n",
       "    </tr>\n",
       "    <tr>\n",
       "      <th>808</th>\n",
       "      <td>1131.5066</td>\n",
       "      <td>(1121.873, 4740.287]</td>\n",
       "    </tr>\n",
       "    <tr>\n",
       "      <th>1244</th>\n",
       "      <td>1135.9407</td>\n",
       "      <td>(1121.873, 4740.287]</td>\n",
       "    </tr>\n",
       "    <tr>\n",
       "      <th>663</th>\n",
       "      <td>1136.3994</td>\n",
       "      <td>(1121.873, 4740.287]</td>\n",
       "    </tr>\n",
       "    <tr>\n",
       "      <th>22</th>\n",
       "      <td>1137.0110</td>\n",
       "      <td>(1121.873, 4740.287]</td>\n",
       "    </tr>\n",
       "  </tbody>\n",
       "</table>\n",
       "</div>"
      ],
      "text/plain": [
       "        charges                  qcut\n",
       "940   1121.8739  (1121.873, 4740.287]\n",
       "808   1131.5066  (1121.873, 4740.287]\n",
       "1244  1135.9407  (1121.873, 4740.287]\n",
       "663   1136.3994  (1121.873, 4740.287]\n",
       "22    1137.0110  (1121.873, 4740.287]"
      ]
     },
     "execution_count": 216,
     "metadata": {},
     "output_type": "execute_result"
    }
   ],
   "source": [
    "### Créer quatre classes de charges en utilisant les quartiles\n",
    "# Chaque classe contient ainsi un quart de la population\n",
    "df_s_charges = pd.DataFrame(s_charges)\n",
    "df_s_charges['qcut'] = pd.qcut(df_s_charges['charges'], 4)\n",
    "df_s_charges.head()"
   ]
  },
  {
   "cell_type": "code",
   "execution_count": 217,
   "id": "8f08891b-353e-4194-aa36-44fd095fc164",
   "metadata": {
    "tags": []
   },
   "outputs": [
    {
     "data": {
      "text/html": [
       "<div>\n",
       "<style scoped>\n",
       "    .dataframe tbody tr th:only-of-type {\n",
       "        vertical-align: middle;\n",
       "    }\n",
       "\n",
       "    .dataframe tbody tr th {\n",
       "        vertical-align: top;\n",
       "    }\n",
       "\n",
       "    .dataframe thead th {\n",
       "        text-align: right;\n",
       "    }\n",
       "</style>\n",
       "<table border=\"1\" class=\"dataframe\">\n",
       "  <thead>\n",
       "    <tr style=\"text-align: right;\">\n",
       "      <th></th>\n",
       "      <th>qcut</th>\n",
       "      <th>effectif</th>\n",
       "    </tr>\n",
       "  </thead>\n",
       "  <tbody>\n",
       "    <tr>\n",
       "      <th>0</th>\n",
       "      <td>(1121.873, 4740.287]</td>\n",
       "      <td>335</td>\n",
       "    </tr>\n",
       "    <tr>\n",
       "      <th>1</th>\n",
       "      <td>(4740.287, 9382.033]</td>\n",
       "      <td>334</td>\n",
       "    </tr>\n",
       "    <tr>\n",
       "      <th>2</th>\n",
       "      <td>(9382.033, 16639.913]</td>\n",
       "      <td>334</td>\n",
       "    </tr>\n",
       "    <tr>\n",
       "      <th>3</th>\n",
       "      <td>(16639.913, 63770.428]</td>\n",
       "      <td>335</td>\n",
       "    </tr>\n",
       "  </tbody>\n",
       "</table>\n",
       "</div>"
      ],
      "text/plain": [
       "                     qcut  effectif\n",
       "0    (1121.873, 4740.287]       335\n",
       "1    (4740.287, 9382.033]       334\n",
       "2   (9382.033, 16639.913]       334\n",
       "3  (16639.913, 63770.428]       335"
      ]
     },
     "execution_count": 217,
     "metadata": {},
     "output_type": "execute_result"
    }
   ],
   "source": [
    "### Regrouper par classe et ajouter le nombre d'individus\n",
    "gbdf_size_charges = df_s_charges.groupby(by='qcut').size()\n",
    "gbdf_size_charges = gbdf_size_charges.reset_index()\n",
    "gbdf_size_charges.columns = ['qcut', 'effectif']\n",
    "gbdf_size_charges.head()"
   ]
  },
  {
   "cell_type": "code",
   "execution_count": 218,
   "id": "7004887b-81e7-4c61-8d45-06a32e6c1db9",
   "metadata": {
    "tags": []
   },
   "outputs": [
    {
     "data": {
      "text/html": [
       "<div>\n",
       "<style scoped>\n",
       "    .dataframe tbody tr th:only-of-type {\n",
       "        vertical-align: middle;\n",
       "    }\n",
       "\n",
       "    .dataframe tbody tr th {\n",
       "        vertical-align: top;\n",
       "    }\n",
       "\n",
       "    .dataframe thead th {\n",
       "        text-align: right;\n",
       "    }\n",
       "</style>\n",
       "<table border=\"1\" class=\"dataframe\">\n",
       "  <thead>\n",
       "    <tr style=\"text-align: right;\">\n",
       "      <th></th>\n",
       "      <th>qcut</th>\n",
       "      <th>effectif</th>\n",
       "      <th>frequence_eff</th>\n",
       "    </tr>\n",
       "  </thead>\n",
       "  <tbody>\n",
       "    <tr>\n",
       "      <th>0</th>\n",
       "      <td>(1121.873, 4740.287]</td>\n",
       "      <td>335</td>\n",
       "      <td>0.250374</td>\n",
       "    </tr>\n",
       "    <tr>\n",
       "      <th>1</th>\n",
       "      <td>(4740.287, 9382.033]</td>\n",
       "      <td>334</td>\n",
       "      <td>0.249626</td>\n",
       "    </tr>\n",
       "    <tr>\n",
       "      <th>2</th>\n",
       "      <td>(9382.033, 16639.913]</td>\n",
       "      <td>334</td>\n",
       "      <td>0.249626</td>\n",
       "    </tr>\n",
       "    <tr>\n",
       "      <th>3</th>\n",
       "      <td>(16639.913, 63770.428]</td>\n",
       "      <td>335</td>\n",
       "      <td>0.250374</td>\n",
       "    </tr>\n",
       "  </tbody>\n",
       "</table>\n",
       "</div>"
      ],
      "text/plain": [
       "                     qcut  effectif  frequence_eff\n",
       "0    (1121.873, 4740.287]       335       0.250374\n",
       "1    (4740.287, 9382.033]       334       0.249626\n",
       "2   (9382.033, 16639.913]       334       0.249626\n",
       "3  (16639.913, 63770.428]       335       0.250374"
      ]
     },
     "execution_count": 218,
     "metadata": {},
     "output_type": "execute_result"
    }
   ],
   "source": [
    "### Ajouter la fréquence\n",
    "gbdf_size_charges['frequence_eff'] = (gbdf_size_charges['effectif'] \\\n",
    "                / gbdf_size_charges['effectif'].sum()).round(6)\n",
    "gbdf_size_charges.head()"
   ]
  },
  {
   "cell_type": "code",
   "execution_count": 219,
   "id": "9a7eb00d-796a-491b-84cd-249656670379",
   "metadata": {
    "tags": []
   },
   "outputs": [
    {
     "data": {
      "text/html": [
       "<div>\n",
       "<style scoped>\n",
       "    .dataframe tbody tr th:only-of-type {\n",
       "        vertical-align: middle;\n",
       "    }\n",
       "\n",
       "    .dataframe tbody tr th {\n",
       "        vertical-align: top;\n",
       "    }\n",
       "\n",
       "    .dataframe thead th {\n",
       "        text-align: right;\n",
       "    }\n",
       "</style>\n",
       "<table border=\"1\" class=\"dataframe\">\n",
       "  <thead>\n",
       "    <tr style=\"text-align: right;\">\n",
       "      <th></th>\n",
       "      <th>qcut</th>\n",
       "      <th>somme</th>\n",
       "    </tr>\n",
       "  </thead>\n",
       "  <tbody>\n",
       "    <tr>\n",
       "      <th>0</th>\n",
       "      <td>(1121.873, 4740.287]</td>\n",
       "      <td>9.557850e+05</td>\n",
       "    </tr>\n",
       "    <tr>\n",
       "      <th>1</th>\n",
       "      <td>(4740.287, 9382.033]</td>\n",
       "      <td>2.335282e+06</td>\n",
       "    </tr>\n",
       "    <tr>\n",
       "      <th>2</th>\n",
       "      <td>(9382.033, 16639.913]</td>\n",
       "      <td>4.043429e+06</td>\n",
       "    </tr>\n",
       "    <tr>\n",
       "      <th>3</th>\n",
       "      <td>(16639.913, 63770.428]</td>\n",
       "      <td>1.042133e+07</td>\n",
       "    </tr>\n",
       "  </tbody>\n",
       "</table>\n",
       "</div>"
      ],
      "text/plain": [
       "                     qcut         somme\n",
       "0    (1121.873, 4740.287]  9.557850e+05\n",
       "1    (4740.287, 9382.033]  2.335282e+06\n",
       "2   (9382.033, 16639.913]  4.043429e+06\n",
       "3  (16639.913, 63770.428]  1.042133e+07"
      ]
     },
     "execution_count": 219,
     "metadata": {},
     "output_type": "execute_result"
    }
   ],
   "source": [
    "### Regrouper par classe et ajouter la somme des salaires par classe\n",
    "gbdf_sum_charges = df_s_charges.groupby(by='qcut').sum()\n",
    "gbdf_sum_charges = gbdf_sum_charges.reset_index()\n",
    "gbdf_sum_charges.columns = ['qcut', 'somme']\n",
    "gbdf_sum_charges.head()"
   ]
  },
  {
   "cell_type": "code",
   "execution_count": 220,
   "id": "50dbeaa4-fce6-433c-a3f4-e34e0b02ece3",
   "metadata": {
    "tags": []
   },
   "outputs": [
    {
     "data": {
      "text/html": [
       "<div>\n",
       "<style scoped>\n",
       "    .dataframe tbody tr th:only-of-type {\n",
       "        vertical-align: middle;\n",
       "    }\n",
       "\n",
       "    .dataframe tbody tr th {\n",
       "        vertical-align: top;\n",
       "    }\n",
       "\n",
       "    .dataframe thead th {\n",
       "        text-align: right;\n",
       "    }\n",
       "</style>\n",
       "<table border=\"1\" class=\"dataframe\">\n",
       "  <thead>\n",
       "    <tr style=\"text-align: right;\">\n",
       "      <th></th>\n",
       "      <th>qcut</th>\n",
       "      <th>somme</th>\n",
       "      <th>frequence_somme</th>\n",
       "    </tr>\n",
       "  </thead>\n",
       "  <tbody>\n",
       "    <tr>\n",
       "      <th>0</th>\n",
       "      <td>(1121.873, 4740.287]</td>\n",
       "      <td>9.557850e+05</td>\n",
       "      <td>0.053829</td>\n",
       "    </tr>\n",
       "    <tr>\n",
       "      <th>1</th>\n",
       "      <td>(4740.287, 9382.033]</td>\n",
       "      <td>2.335282e+06</td>\n",
       "      <td>0.131522</td>\n",
       "    </tr>\n",
       "    <tr>\n",
       "      <th>2</th>\n",
       "      <td>(9382.033, 16639.913]</td>\n",
       "      <td>4.043429e+06</td>\n",
       "      <td>0.227724</td>\n",
       "    </tr>\n",
       "    <tr>\n",
       "      <th>3</th>\n",
       "      <td>(16639.913, 63770.428]</td>\n",
       "      <td>1.042133e+07</td>\n",
       "      <td>0.586925</td>\n",
       "    </tr>\n",
       "  </tbody>\n",
       "</table>\n",
       "</div>"
      ],
      "text/plain": [
       "                     qcut         somme  frequence_somme\n",
       "0    (1121.873, 4740.287]  9.557850e+05         0.053829\n",
       "1    (4740.287, 9382.033]  2.335282e+06         0.131522\n",
       "2   (9382.033, 16639.913]  4.043429e+06         0.227724\n",
       "3  (16639.913, 63770.428]  1.042133e+07         0.586925"
      ]
     },
     "execution_count": 220,
     "metadata": {},
     "output_type": "execute_result"
    }
   ],
   "source": [
    "### Ajouter une colonne avec la fréquence\n",
    "gbdf_sum_charges['frequence_somme'] = (gbdf_sum_charges['somme'] \\\n",
    "                / gbdf_sum_charges['somme'].sum()).round(6)\n",
    "gbdf_sum_charges.head()"
   ]
  },
  {
   "cell_type": "code",
   "execution_count": 221,
   "id": "a5e1fbc0-d699-4b0b-a130-4b0fcf35d335",
   "metadata": {
    "tags": []
   },
   "outputs": [
    {
     "data": {
      "text/html": [
       "<div>\n",
       "<style scoped>\n",
       "    .dataframe tbody tr th:only-of-type {\n",
       "        vertical-align: middle;\n",
       "    }\n",
       "\n",
       "    .dataframe tbody tr th {\n",
       "        vertical-align: top;\n",
       "    }\n",
       "\n",
       "    .dataframe thead th {\n",
       "        text-align: right;\n",
       "    }\n",
       "</style>\n",
       "<table border=\"1\" class=\"dataframe\">\n",
       "  <thead>\n",
       "    <tr style=\"text-align: right;\">\n",
       "      <th></th>\n",
       "      <th>qcut</th>\n",
       "      <th>somme</th>\n",
       "      <th>frequence_somme</th>\n",
       "      <th>frequence_cumulee_somme</th>\n",
       "    </tr>\n",
       "  </thead>\n",
       "  <tbody>\n",
       "    <tr>\n",
       "      <th>0</th>\n",
       "      <td>(1121.873, 4740.287]</td>\n",
       "      <td>9.557850e+05</td>\n",
       "      <td>0.053829</td>\n",
       "      <td>0.053829</td>\n",
       "    </tr>\n",
       "    <tr>\n",
       "      <th>1</th>\n",
       "      <td>(4740.287, 9382.033]</td>\n",
       "      <td>2.335282e+06</td>\n",
       "      <td>0.131522</td>\n",
       "      <td>0.185351</td>\n",
       "    </tr>\n",
       "    <tr>\n",
       "      <th>2</th>\n",
       "      <td>(9382.033, 16639.913]</td>\n",
       "      <td>4.043429e+06</td>\n",
       "      <td>0.227724</td>\n",
       "      <td>0.413075</td>\n",
       "    </tr>\n",
       "    <tr>\n",
       "      <th>3</th>\n",
       "      <td>(16639.913, 63770.428]</td>\n",
       "      <td>1.042133e+07</td>\n",
       "      <td>0.586925</td>\n",
       "      <td>1.000000</td>\n",
       "    </tr>\n",
       "  </tbody>\n",
       "</table>\n",
       "</div>"
      ],
      "text/plain": [
       "                     qcut         somme  frequence_somme   \n",
       "0    (1121.873, 4740.287]  9.557850e+05         0.053829  \\\n",
       "1    (4740.287, 9382.033]  2.335282e+06         0.131522   \n",
       "2   (9382.033, 16639.913]  4.043429e+06         0.227724   \n",
       "3  (16639.913, 63770.428]  1.042133e+07         0.586925   \n",
       "\n",
       "   frequence_cumulee_somme  \n",
       "0                 0.053829  \n",
       "1                 0.185351  \n",
       "2                 0.413075  \n",
       "3                 1.000000  "
      ]
     },
     "execution_count": 221,
     "metadata": {},
     "output_type": "execute_result"
    }
   ],
   "source": [
    "### Ajouter la fréquence cumulée\n",
    "gbdf_sum_charges['frequence_cumulee_somme'] = gbdf_sum_charges['frequence_somme'].cumsum()\n",
    "gbdf_sum_charges.head()"
   ]
  },
  {
   "cell_type": "code",
   "execution_count": 108,
   "id": "6d3d3fa3-bddc-43e0-9047-736ac563d302",
   "metadata": {
    "tags": []
   },
   "outputs": [],
   "source": [
    "def calculer_densite_width(ligne, colonne_frequence):\n",
    "    x = ligne['qcut']\n",
    "    ampl = int(x.right) - int(x.left)\n",
    "    right = int(x.right)\n",
    "    left = int(x.left)\n",
    "    d = round(ligne[colonne_frequence]/ampl,8)\n",
    "    return([d, left, right, ampl])"
   ]
  },
  {
   "cell_type": "code",
   "execution_count": 222,
   "id": "cd450e04-1ec7-4619-a167-47481531e0b0",
   "metadata": {
    "tags": []
   },
   "outputs": [
    {
     "data": {
      "text/html": [
       "<div>\n",
       "<style scoped>\n",
       "    .dataframe tbody tr th:only-of-type {\n",
       "        vertical-align: middle;\n",
       "    }\n",
       "\n",
       "    .dataframe tbody tr th {\n",
       "        vertical-align: top;\n",
       "    }\n",
       "\n",
       "    .dataframe thead th {\n",
       "        text-align: right;\n",
       "    }\n",
       "</style>\n",
       "<table border=\"1\" class=\"dataframe\">\n",
       "  <thead>\n",
       "    <tr style=\"text-align: right;\">\n",
       "      <th></th>\n",
       "      <th>qcut</th>\n",
       "      <th>effectif</th>\n",
       "      <th>frequence_eff</th>\n",
       "      <th>somme</th>\n",
       "      <th>frequence_somme</th>\n",
       "      <th>frequence_cumulee_somme</th>\n",
       "    </tr>\n",
       "  </thead>\n",
       "  <tbody>\n",
       "    <tr>\n",
       "      <th>0</th>\n",
       "      <td>(1121.873, 4740.287]</td>\n",
       "      <td>335</td>\n",
       "      <td>0.250374</td>\n",
       "      <td>9.557850e+05</td>\n",
       "      <td>0.053829</td>\n",
       "      <td>0.053829</td>\n",
       "    </tr>\n",
       "    <tr>\n",
       "      <th>1</th>\n",
       "      <td>(4740.287, 9382.033]</td>\n",
       "      <td>334</td>\n",
       "      <td>0.249626</td>\n",
       "      <td>2.335282e+06</td>\n",
       "      <td>0.131522</td>\n",
       "      <td>0.185351</td>\n",
       "    </tr>\n",
       "    <tr>\n",
       "      <th>2</th>\n",
       "      <td>(9382.033, 16639.913]</td>\n",
       "      <td>334</td>\n",
       "      <td>0.249626</td>\n",
       "      <td>4.043429e+06</td>\n",
       "      <td>0.227724</td>\n",
       "      <td>0.413075</td>\n",
       "    </tr>\n",
       "    <tr>\n",
       "      <th>3</th>\n",
       "      <td>(16639.913, 63770.428]</td>\n",
       "      <td>335</td>\n",
       "      <td>0.250374</td>\n",
       "      <td>1.042133e+07</td>\n",
       "      <td>0.586925</td>\n",
       "      <td>1.000000</td>\n",
       "    </tr>\n",
       "  </tbody>\n",
       "</table>\n",
       "</div>"
      ],
      "text/plain": [
       "                     qcut  effectif  frequence_eff         somme   \n",
       "0    (1121.873, 4740.287]       335       0.250374  9.557850e+05  \\\n",
       "1    (4740.287, 9382.033]       334       0.249626  2.335282e+06   \n",
       "2   (9382.033, 16639.913]       334       0.249626  4.043429e+06   \n",
       "3  (16639.913, 63770.428]       335       0.250374  1.042133e+07   \n",
       "\n",
       "   frequence_somme  frequence_cumulee_somme  \n",
       "0         0.053829                 0.053829  \n",
       "1         0.131522                 0.185351  \n",
       "2         0.227724                 0.413075  \n",
       "3         0.586925                 1.000000  "
      ]
     },
     "execution_count": 222,
     "metadata": {},
     "output_type": "execute_result"
    }
   ],
   "source": [
    "### Fusionner les tableaux\n",
    "gbdf_merged = pd.merge(gbdf_size_charges, gbdf_sum_charges, on='qcut')\n",
    "gbdf_merged.head()"
   ]
  },
  {
   "cell_type": "code",
   "execution_count": 223,
   "id": "87c71c08-51c9-49dd-8510-3d4b71fc6e98",
   "metadata": {
    "tags": []
   },
   "outputs": [
    {
     "data": {
      "text/html": [
       "<div>\n",
       "<style scoped>\n",
       "    .dataframe tbody tr th:only-of-type {\n",
       "        vertical-align: middle;\n",
       "    }\n",
       "\n",
       "    .dataframe tbody tr th {\n",
       "        vertical-align: top;\n",
       "    }\n",
       "\n",
       "    .dataframe thead th {\n",
       "        text-align: right;\n",
       "    }\n",
       "</style>\n",
       "<table border=\"1\" class=\"dataframe\">\n",
       "  <thead>\n",
       "    <tr style=\"text-align: right;\">\n",
       "      <th></th>\n",
       "      <th>qcut</th>\n",
       "      <th>effectif</th>\n",
       "      <th>frequence_eff</th>\n",
       "      <th>somme</th>\n",
       "      <th>frequence_somme</th>\n",
       "      <th>frequence_cumulee_somme</th>\n",
       "      <th>densite_eff</th>\n",
       "    </tr>\n",
       "  </thead>\n",
       "  <tbody>\n",
       "    <tr>\n",
       "      <th>0</th>\n",
       "      <td>(1121.873, 4740.287]</td>\n",
       "      <td>335</td>\n",
       "      <td>0.250374</td>\n",
       "      <td>9.557850e+05</td>\n",
       "      <td>0.053829</td>\n",
       "      <td>0.053829</td>\n",
       "      <td>[6.918e-05, 1121, 4740, 3619]</td>\n",
       "    </tr>\n",
       "    <tr>\n",
       "      <th>1</th>\n",
       "      <td>(4740.287, 9382.033]</td>\n",
       "      <td>334</td>\n",
       "      <td>0.249626</td>\n",
       "      <td>2.335282e+06</td>\n",
       "      <td>0.131522</td>\n",
       "      <td>0.185351</td>\n",
       "      <td>[5.378e-05, 4740, 9382, 4642]</td>\n",
       "    </tr>\n",
       "    <tr>\n",
       "      <th>2</th>\n",
       "      <td>(9382.033, 16639.913]</td>\n",
       "      <td>334</td>\n",
       "      <td>0.249626</td>\n",
       "      <td>4.043429e+06</td>\n",
       "      <td>0.227724</td>\n",
       "      <td>0.413075</td>\n",
       "      <td>[3.44e-05, 9382, 16639, 7257]</td>\n",
       "    </tr>\n",
       "    <tr>\n",
       "      <th>3</th>\n",
       "      <td>(16639.913, 63770.428]</td>\n",
       "      <td>335</td>\n",
       "      <td>0.250374</td>\n",
       "      <td>1.042133e+07</td>\n",
       "      <td>0.586925</td>\n",
       "      <td>1.000000</td>\n",
       "      <td>[5.31e-06, 16639, 63770, 47131]</td>\n",
       "    </tr>\n",
       "  </tbody>\n",
       "</table>\n",
       "</div>"
      ],
      "text/plain": [
       "                     qcut  effectif  frequence_eff         somme   \n",
       "0    (1121.873, 4740.287]       335       0.250374  9.557850e+05  \\\n",
       "1    (4740.287, 9382.033]       334       0.249626  2.335282e+06   \n",
       "2   (9382.033, 16639.913]       334       0.249626  4.043429e+06   \n",
       "3  (16639.913, 63770.428]       335       0.250374  1.042133e+07   \n",
       "\n",
       "   frequence_somme  frequence_cumulee_somme                      densite_eff  \n",
       "0         0.053829                 0.053829    [6.918e-05, 1121, 4740, 3619]  \n",
       "1         0.131522                 0.185351    [5.378e-05, 4740, 9382, 4642]  \n",
       "2         0.227724                 0.413075    [3.44e-05, 9382, 16639, 7257]  \n",
       "3         0.586925                 1.000000  [5.31e-06, 16639, 63770, 47131]  "
      ]
     },
     "execution_count": 223,
     "metadata": {},
     "output_type": "execute_result"
    }
   ],
   "source": [
    "gbdf_merged['densite_eff'] = gbdf_merged.apply(lambda x: calculer_densite_width(x, 'frequence_eff'), axis=1)\n",
    "gbdf_merged.head()"
   ]
  },
  {
   "cell_type": "code",
   "execution_count": 224,
   "id": "8e711f50-7c0a-400a-8a34-0abf824fa4da",
   "metadata": {
    "tags": []
   },
   "outputs": [
    {
     "data": {
      "text/html": [
       "<div>\n",
       "<style scoped>\n",
       "    .dataframe tbody tr th:only-of-type {\n",
       "        vertical-align: middle;\n",
       "    }\n",
       "\n",
       "    .dataframe tbody tr th {\n",
       "        vertical-align: top;\n",
       "    }\n",
       "\n",
       "    .dataframe thead th {\n",
       "        text-align: right;\n",
       "    }\n",
       "</style>\n",
       "<table border=\"1\" class=\"dataframe\">\n",
       "  <thead>\n",
       "    <tr style=\"text-align: right;\">\n",
       "      <th></th>\n",
       "      <th>qcut</th>\n",
       "      <th>effectif</th>\n",
       "      <th>frequence_eff</th>\n",
       "      <th>somme</th>\n",
       "      <th>frequence_somme</th>\n",
       "      <th>frequence_cumulee_somme</th>\n",
       "      <th>densite_eff</th>\n",
       "    </tr>\n",
       "  </thead>\n",
       "  <tbody>\n",
       "    <tr>\n",
       "      <th>0</th>\n",
       "      <td>(1121.873, 4740.287]</td>\n",
       "      <td>335</td>\n",
       "      <td>0.250374</td>\n",
       "      <td>9.557850e+05</td>\n",
       "      <td>0.053829</td>\n",
       "      <td>0.053829</td>\n",
       "      <td>[6.918e-05, 1121, 4740, 3619, 0.053829]</td>\n",
       "    </tr>\n",
       "    <tr>\n",
       "      <th>1</th>\n",
       "      <td>(4740.287, 9382.033]</td>\n",
       "      <td>334</td>\n",
       "      <td>0.249626</td>\n",
       "      <td>2.335282e+06</td>\n",
       "      <td>0.131522</td>\n",
       "      <td>0.185351</td>\n",
       "      <td>[5.378e-05, 4740, 9382, 4642, 0.185351]</td>\n",
       "    </tr>\n",
       "    <tr>\n",
       "      <th>2</th>\n",
       "      <td>(9382.033, 16639.913]</td>\n",
       "      <td>334</td>\n",
       "      <td>0.249626</td>\n",
       "      <td>4.043429e+06</td>\n",
       "      <td>0.227724</td>\n",
       "      <td>0.413075</td>\n",
       "      <td>[3.44e-05, 9382, 16639, 7257, 0.41307499999999...</td>\n",
       "    </tr>\n",
       "    <tr>\n",
       "      <th>3</th>\n",
       "      <td>(16639.913, 63770.428]</td>\n",
       "      <td>335</td>\n",
       "      <td>0.250374</td>\n",
       "      <td>1.042133e+07</td>\n",
       "      <td>0.586925</td>\n",
       "      <td>1.000000</td>\n",
       "      <td>[5.31e-06, 16639, 63770, 47131, 1.0]</td>\n",
       "    </tr>\n",
       "  </tbody>\n",
       "</table>\n",
       "</div>"
      ],
      "text/plain": [
       "                     qcut  effectif  frequence_eff         somme   \n",
       "0    (1121.873, 4740.287]       335       0.250374  9.557850e+05  \\\n",
       "1    (4740.287, 9382.033]       334       0.249626  2.335282e+06   \n",
       "2   (9382.033, 16639.913]       334       0.249626  4.043429e+06   \n",
       "3  (16639.913, 63770.428]       335       0.250374  1.042133e+07   \n",
       "\n",
       "   frequence_somme  frequence_cumulee_somme   \n",
       "0         0.053829                 0.053829  \\\n",
       "1         0.131522                 0.185351   \n",
       "2         0.227724                 0.413075   \n",
       "3         0.586925                 1.000000   \n",
       "\n",
       "                                         densite_eff  \n",
       "0            [6.918e-05, 1121, 4740, 3619, 0.053829]  \n",
       "1            [5.378e-05, 4740, 9382, 4642, 0.185351]  \n",
       "2  [3.44e-05, 9382, 16639, 7257, 0.41307499999999...  \n",
       "3               [5.31e-06, 16639, 63770, 47131, 1.0]  "
      ]
     },
     "execution_count": 224,
     "metadata": {},
     "output_type": "execute_result"
    }
   ],
   "source": [
    "gbdf_merged.apply(lambda x: x['densite_eff'].append(x['frequence_cumulee_somme']), axis=1)\n",
    "gbdf_merged.head()"
   ]
  },
  {
   "cell_type": "code",
   "execution_count": 225,
   "id": "2658ef17-0414-4d06-bebb-c32f04f8415c",
   "metadata": {
    "tags": []
   },
   "outputs": [
    {
     "data": {
      "image/png": "[encoded data removed]",
      "text/plain": [
       "<Figure size 1600x800 with 1 Axes>"
      ]
     },
     "metadata": {},
     "output_type": "display_data"
    }
   ],
   "source": [
    "### Histogramme\n",
    "# La hauteur des barres, en ordonnées, représente la densité non l'effectif, \n",
    "# l'effectif est représenté par l'aire\n",
    "\n",
    "fig,ax = plt.subplots(1,1)\n",
    "\n",
    "objects = [l[1] for l in gbdf_merged['densite_eff']]\n",
    "eff = [l[0] for l in gbdf_merged['densite_eff']]\n",
    "width = [l[3]  for l in gbdf_merged['densite_eff']]\n",
    "\n",
    "\n",
    "fig = plt.bar(objects, eff, width = width, align=\"edge\")\n",
    "ax.set_xticks(objects + [[l[2] for l in gbdf_merged['densite_eff']][-1]])\n",
    "plt.ylabel('Densité')\n",
    "plt.title('Histogramme des revenus')\n",
    "plt.gcf().set_size_inches(16, 8)\n",
    "# supported formats: eps, pdf, pgf, png, ps, raw, rgba, svg, svgz\n",
    "# plt.savefig('exported_pictures/effectifs_annees_reference_par_periode.png', dpi=100, bbox_inches = \"tight\") #pdf, svg\n",
    "plt.xticks(rotation=45)\n",
    "plt.show()"
   ]
  },
  {
   "cell_type": "code",
   "execution_count": 226,
   "id": "bb2cc507-dcb9-48a4-8fa6-6c21a887314e",
   "metadata": {
    "tags": []
   },
   "outputs": [],
   "source": [
    "### Le graphique par défaut de Matplotlib, \n",
    "#  ne met pas en évidence la spécificité de la distribution,\n",
    "# Ceci dépend d'un (et illustre un) découpage des classes non pertinent\n",
    "#n, bins, patches = plt.hist(s_charges, bins=5, density=False)\n",
    "#print(n)\n",
    "#plt.xticks(bins)\n",
    "#plt.show()"
   ]
  },
  {
   "cell_type": "code",
   "execution_count": 227,
   "id": "dd13315f-9326-406d-89b8-e859bcd81b43",
   "metadata": {
    "tags": []
   },
   "outputs": [],
   "source": [
    "### Le graphique par défaut de Matplotlib, \n",
    "#  ne met pas en évidence la spécificité de la distribution,\n",
    "#  i.e. le nombre élevé de revenus autour de 8000 CHF\n",
    "# Ceci dépend d'un (et illustre un) découpage des classes non pertinent\n",
    "#n, bins, patches = plt.hist(s_charges, density=True)\n",
    "#ax = s_charges.plot.kde()\n",
    "\n",
    "#ax.set_xlim(1300, 46000)\n",
    "#plt.xticks(bins)\n",
    "#plt.show()"
   ]
  },
  {
   "cell_type": "code",
   "execution_count": 228,
   "id": "0b5b05f1-d3ed-4471-a967-93bfb34552c7",
   "metadata": {
    "tags": []
   },
   "outputs": [],
   "source": [
    "### Ajouter les fréquences cumulées à l'histogramme de la densité des effectifs\n",
    "#fig, ax = plt.subplots(1)\n",
    "\n",
    "\n",
    "#objects = [l[1] for l in gbdf_merged['densite_eff']]\n",
    "#eff = [l[0] for l in gbdf_merged['densite_eff']]\n",
    "#width = [l[3]  for l in gbdf_merged['densite_eff']]\n",
    "#valeur = [round(l[4],2) for l in gbdf_merged['densite_eff']]\n",
    "#ticks = [l[1] + (l[3]/2) for l in gbdf_merged['densite_eff']]\n",
    "\n",
    "\n",
    "\n",
    "#define aesthetics for plot\n",
    "#color1 = 'steelblue'\n",
    "#color2 = 'red'\n",
    "#line_size = 5\n",
    "\n",
    "\n",
    "#ax.bar(objects, eff, width = width, align=\"edge\", color=color1)\n",
    "#ax1 = ax.twinx()\n",
    "#ax1.plot(ticks,valeur, color = color2,  marker=\"D\", ms=line_size)\n",
    "\n",
    "\n",
    "#ax.set_xticks(objects + [[l[2] for l in gbdf_merged['densite_eff']][-1]])\n",
    "\n",
    "#plt.title('Histogramme des revenus avec fréquence cumulative des sommes par classe')\n",
    "#plt.gcf().set_size_inches(16, 8)\n",
    "\n",
    "#ax.set_xlabel('Classes de revenus')\n",
    "#ax.set_ylabel('Densité')\n",
    "\n",
    "#specify axis colors\n",
    "#ax.tick_params(axis='y', colors=color1)\n",
    "#ax1.tick_params(axis='y', colors='white')\n",
    "#ax1.set_ylabel('Fréquence cumulée de la  somme des salaires')\n",
    "\n",
    "#plt.yticks(ticks=valeur, minor=True, labels= valeur, color=color2)\n",
    "#plt.xticks(rotation=45)\n",
    "\n",
    "\n",
    "#plt.show()"
   ]
  },
  {
   "cell_type": "markdown",
   "id": "6290e871-6ed6-43e7-a732-05d046b2f25e",
   "metadata": {},
   "source": [
    "### Distribution de probabilité"
   ]
  },
  {
   "cell_type": "code",
   "execution_count": 229,
   "id": "a829f846-f1c0-4003-be43-731f54a4d669",
   "metadata": {
    "tags": []
   },
   "outputs": [],
   "source": [
    "#a = pd.DataFrame(ins[ins['charges'] < 12000][\"charges\"])\n",
    "#a.columns=['charges']\n",
    "#print(type(a))\n",
    "#a['charges'].plot(kind='hist', density=True, bins=20)\n",
    "#a['charges'].plot.kde()\n",
    "#plt.show()"
   ]
  },
  {
   "cell_type": "code",
   "execution_count": 230,
   "id": "cb5232c5-0da4-4bb3-81d0-a026ef9c687f",
   "metadata": {
    "tags": []
   },
   "outputs": [],
   "source": [
    "### QQ Plot des données concernant les revenus de l'échantillon\n",
    "# https://www.statsmodels.org/stable/generated/statsmodels.graphics.gofplots.qqplot.html#statsmodels.graphics.gofplots.qqplot\n",
    "# fit = True normalise automatiquement les données\n",
    "#sm.qqplot(a['charges'], line='s', fit=True)\n",
    "#plt.arrow(x=-0.8, y=-2.2, dx=-0.15, dy=+0.6, width=.02, facecolor='red') \n",
    "#plt.arrow(x=0.2, y=1.8, dx=0.12, dy=-0.5, width=.02, facecolor='red') \n",
    "#plt.show()"
   ]
  },
  {
   "cell_type": "markdown",
   "id": "ba1a2002-c1b4-42bf-8241-b095525cf531",
   "metadata": {},
   "source": [
    "### Commentaire\n",
    "\n",
    "Noter que la distribution n'est pas normale mais multimodale, avec deux ou trois sommets, et qu'il y a des valeurs extrèmes. \n",
    "Cf. les références proposées ci-dessus au sujet de la distribution de l'âge.\n",
    "\n",
    "On ne peut donc pas effectuer des tests paramétriques utilisant la distribution normale et que la correlation de Pearsons (cf. analyse quantitative bivariée) n'est pas appliquable à cette variable.\n",
    "\n",
    "Comme la distribution est multimodale, l'application de transformations simples comme le logarithme naturel ne permet pas de se rapprocher de la distribution normale, comme ce serait le cas si la distribution était exponentielle.\n",
    "\n",
    "On pourrait toutefois préciser l'analyse en découpant ultérieurement la population et en mettant en évidence les deux-trois parties à distribution normale, tout en vérifiant que ça a du sens par rapport au contexte et aux autres variables. On pourrait par exemple découper par tranches d'age.\n",
    "\n",
    "Voir les explications de ce carnet: https://www.kaggle.com/code/iamleonie/handling-multimodal-distributions-fe-techniques"
   ]
  },
  {
   "cell_type": "code",
   "execution_count": 231,
   "id": "3c895681-463c-4b1a-a836-1f4051cf7a84",
   "metadata": {
    "tags": []
   },
   "outputs": [],
   "source": [
    "### Test de Shapiro-Wilk: hypothèse H0 = distribution normale\n",
    "#sa = stats.shapiro(a['charges'])\n",
    "#print(sa)\n",
    "# Commentaire: la valeur de probabilité est 0.000490 et donc laragement inférieure à 0.05:\n",
    "# on doit donc rejeteur l'H0 et considérer que la distribution ne suit pas la loi normale avec 95% de probabilité"
   ]
  },
  {
   "cell_type": "code",
   "execution_count": 232,
   "id": "b8eb855e-02fd-4083-82a1-58c281b13de4",
   "metadata": {
    "tags": []
   },
   "outputs": [],
   "source": [
    "#print(f\"{sa.pvalue:.5f}\")"
   ]
  },
  {
   "cell_type": "markdown",
   "id": "0eb50f54-8936-430a-8ed5-30922682ecda",
   "metadata": {},
   "source": [
    "## Graphique de Pareto\n",
    "\n",
    "* [Principe de Pareto](https://fr.wikipedia.org/wiki/Principe_de_Pareto) (Wikipedia)\n",
    "* [Loi de Pareto](https://fr.wikipedia.org/wiki/Loi_de_Pareto) (Wikipedia)\n"
   ]
  },
  {
   "cell_type": "code",
   "execution_count": 233,
   "id": "35cdbd7f-3a61-4cfd-96eb-12c0de56abc0",
   "metadata": {
    "tags": []
   },
   "outputs": [],
   "source": [
    "### Ajouter une colonne avec codage des charges \n",
    "# en relation avec des effectifs identiques des classes\n",
    "\n",
    "#c_obs['charges_cut'] = pd.qcut(c_obs['charges'], 10)\n",
    "\n",
    "### Transformer le code ajouté pour qu'il soit plus lisible\n",
    "# noter qu'on a enlevé une unité afin d'avoir des valeurs incluses\n",
    "#c_obs['charges_cut'] = c_obs['charges_cut'].apply(lambda x : str(int(x.left))+'-'+ str(int(x.right)-1))\n",
    "\n",
    "# Inspection\n",
    "#c_obs.head(5)"
   ]
  },
  {
   "cell_type": "code",
   "execution_count": 234,
   "id": "fe98f3d8-9186-45b4-b852-09615a7e28ea",
   "metadata": {
    "tags": []
   },
   "outputs": [],
   "source": [
    "### Regrouper et compter par classe de salaire avec la fonction Pandas 'groupby' \n",
    "df_charges = pd.DataFrame(c_obs.groupby('charges_cut').size())\n",
    "df_charges.columns = ['effectif']\n",
    "#df_charges"
   ]
  },
  {
   "cell_type": "code",
   "execution_count": 235,
   "id": "6ffa4367-df1f-4566-8aa3-376f85ae3f38",
   "metadata": {
    "tags": []
   },
   "outputs": [],
   "source": [
    "### Calculer et ajouter la fréquence\n",
    "#  en tant que proportion entre l'effectif de la valeur et l'effectif total\n",
    "\n",
    "df_charges['frequence'] = (df_charges['effectif'] \\\n",
    "                                   / df_charges['effectif'].sum()).round(2)\n",
    "#df_charges"
   ]
  },
  {
   "cell_type": "code",
   "execution_count": 236,
   "id": "411e7838-1225-4e99-a30e-d13e6c8595c9",
   "metadata": {
    "tags": []
   },
   "outputs": [],
   "source": [
    "### Ajouter la fréquence cumulée\n",
    "df_charges['frequence_cumulee'] = df_revenu['frequence'].cumsum()\n",
    "#df_charges.head()"
   ]
  },
  {
   "cell_type": "code",
   "execution_count": 237,
   "id": "69e5ef0c-e1bd-4a8f-816b-9862ddeabfcb",
   "metadata": {
    "tags": []
   },
   "outputs": [],
   "source": [
    "### Regrouper et additionner les salaires par classe \n",
    "df_somme = pd.DataFrame(c_obs.groupby('charges_cut')['charges'].sum())\n",
    "df_somme.columns = ['somme']\n",
    "#df_somme"
   ]
  },
  {
   "cell_type": "code",
   "execution_count": 238,
   "id": "1b5afa44-e758-4107-8efd-c1b0083e7a10",
   "metadata": {
    "tags": []
   },
   "outputs": [],
   "source": [
    "### Calculer et ajouter la fréquence\n",
    "#  en tant que proportion entre l'effectif de la valeur et l'effectif total\n",
    "\n",
    "df_somme['frequence_somme'] = (df_somme['somme'] \\\n",
    "                                   / df_somme['somme'].sum()).round(2)\n",
    "#df_somme.head()"
   ]
  },
  {
   "cell_type": "code",
   "execution_count": 239,
   "id": "e34b0949-17d6-421c-9614-1c2d675ab4db",
   "metadata": {
    "tags": []
   },
   "outputs": [],
   "source": [
    "### Ajouter la fréquence cumulée\n",
    "df_somme['frequence_somme_cumulee'] = df_somme['frequence_somme'].cumsum()\n",
    "#df_somme.head()"
   ]
  },
  {
   "cell_type": "code",
   "execution_count": 240,
   "id": "0e89827d-ca61-4af4-84ee-db3faafaa895",
   "metadata": {
    "tags": []
   },
   "outputs": [],
   "source": [
    "df_merged = pd.merge(df_charges, df_somme, left_index=True, right_index=True)\n",
    "#df_merged"
   ]
  },
  {
   "cell_type": "code",
   "execution_count": 241,
   "id": "83a72fff-5341-42d9-95ab-418dec58c6ae",
   "metadata": {
    "tags": []
   },
   "outputs": [],
   "source": [
    "### Pareto distribution\n",
    "# https://www.statology.org/pareto-chart-python/\n",
    "\n",
    "\n",
    "#df = df_merged \n",
    "\n",
    "#define aesthetics for plot\n",
    "#color1 = 'steelblue'\n",
    "#color2 = 'red'\n",
    "#line_size = 4\n",
    "\n",
    "#create basic bar plot\n",
    "#fig, ax = plt.subplots()\n",
    "#ax.bar(df.index, df['frequence_somme'], color=color1)\n",
    "\n",
    "#plt.title('Histogramme des revenus avec fréquence cumulative des sommes par classe (rouge) et de la population (vert)')\n",
    "\n",
    "#plt.gcf().set_size_inches(16, 8)\n",
    "#add cumulative percentage line to plot\n",
    "#ax2 = ax.twinx()\n",
    "#ax2.plot(df.index, df['frequence_somme_cumulee'], color=color2, marker=\"D\", ms=line_size)\n",
    "# ax2.yaxis.set_major_formatter(PercentFormatter())\n",
    "\n",
    "#ax3 = ax.twinx()\n",
    "#ax3.plot(df.index, df['frequence_cumulee'], color='green', linestyle='dashed')\n",
    "\n",
    "#specify axis colors\n",
    "#ax.tick_params(axis='y', colors=color1)\n",
    "#ax2.tick_params(axis='y', colors=color2)\n",
    "# cacher les valeurs de cette variable\n",
    "#ax3.set_yticks([])\n",
    "\n",
    "#plt.axvline(x=4.35, color='red', linestyle='--')\n",
    "\n",
    "#display Pareto chart\n",
    "#plt.show()"
   ]
  },
  {
   "cell_type": "markdown",
   "id": "2f7db343-17c7-41bf-a9da-df8ceb5a1aed",
   "metadata": {},
   "source": [
    "#### Commentaire du graphique\n",
    "\n",
    "On note que l'accroissement de la richesse ne suit pas celui de la population:\n",
    "* à la médiane de la population (indiquée par la ligne vertical rouge qui indique les 50% de la fréquence cumulée) on n'a atteint qu'autour de 30% des salaires cumulés \n",
    "* les 20 % les plus riches de la population accumulent presque 40 % des revenus"
   ]
  }
 ],
 "metadata": {
  "kernelspec": {
   "display_name": "py310_data_analysis",
   "language": "python",
   "name": "py310_data_analysis"
  },
  "language_info": {
   "codemirror_mode": {
    "name": "ipython",
    "version": 3
   },
   "file_extension": ".py",
   "mimetype": "text/x-python",
   "name": "python",
   "nbconvert_exporter": "python",
   "pygments_lexer": "ipython3",
   "version": "3.10.10"
  }
 },
 "nbformat": 4,
 "nbformat_minor": 5
}
